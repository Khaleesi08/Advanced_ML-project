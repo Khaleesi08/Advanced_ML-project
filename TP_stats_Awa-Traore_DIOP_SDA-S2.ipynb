{
 "cells": [
  {
   "cell_type": "code",
   "execution_count": 1,
   "metadata": {},
   "outputs": [],
   "source": [
    "import matplotlib.pyplot as plt\n",
    "import numpy as np\n",
    "import pandas as pd\n",
    "import researchpy as rp\n",
    "import seaborn as sns\n",
    "import scipy.stats as stats\n",
    "from scipy.stats import shapiro\n",
    "from sklearn.linear_model import LinearRegression\n",
    "from sklearn.metrics import mean_squared_error\n",
    "\n",
    "\n",
    "np.random.seed(0)  # le fichier soit reproductible\n",
    "pd.options.display.max_columns = None #pour afficher toutes les colonnes"
   ]
  },
  {
   "cell_type": "code",
   "execution_count": 2,
   "metadata": {},
   "outputs": [
    {
     "name": "stderr",
     "output_type": "stream",
     "text": [
      "C:\\Users\\gladi\\anaconda3\\lib\\site-packages\\IPython\\core\\interactiveshell.py:3437: FutureWarning: The error_bad_lines argument has been deprecated and will be removed in a future version.\n",
      "\n",
      "\n",
      "  exec(code_obj, self.user_global_ns, self.user_ns)\n"
     ]
    }
   ],
   "source": [
    "chemin = r\"Birthweight.csv\"\n",
    "df = pd.read_csv(chemin, sep=\",\", error_bad_lines=False)"
   ]
  },
  {
   "cell_type": "code",
   "execution_count": 3,
   "metadata": {},
   "outputs": [
    {
     "data": {
      "text/html": [
       "<div>\n",
       "<style scoped>\n",
       "    .dataframe tbody tr th:only-of-type {\n",
       "        vertical-align: middle;\n",
       "    }\n",
       "\n",
       "    .dataframe tbody tr th {\n",
       "        vertical-align: top;\n",
       "    }\n",
       "\n",
       "    .dataframe thead th {\n",
       "        text-align: right;\n",
       "    }\n",
       "</style>\n",
       "<table border=\"1\" class=\"dataframe\">\n",
       "  <thead>\n",
       "    <tr style=\"text-align: right;\">\n",
       "      <th></th>\n",
       "      <th>ID</th>\n",
       "      <th>Length</th>\n",
       "      <th>Birthweight</th>\n",
       "      <th>Headcirc</th>\n",
       "      <th>Gestation</th>\n",
       "      <th>smoker</th>\n",
       "      <th>mage</th>\n",
       "      <th>mnocig</th>\n",
       "      <th>mheight</th>\n",
       "      <th>mppwt</th>\n",
       "      <th>fage</th>\n",
       "      <th>fedyrs</th>\n",
       "      <th>fnocig</th>\n",
       "      <th>fheight</th>\n",
       "      <th>lowbwt</th>\n",
       "      <th>mage35</th>\n",
       "    </tr>\n",
       "  </thead>\n",
       "  <tbody>\n",
       "    <tr>\n",
       "      <th>0</th>\n",
       "      <td>1360</td>\n",
       "      <td>56</td>\n",
       "      <td>4.55</td>\n",
       "      <td>34</td>\n",
       "      <td>44</td>\n",
       "      <td>0</td>\n",
       "      <td>20</td>\n",
       "      <td>0</td>\n",
       "      <td>162</td>\n",
       "      <td>57</td>\n",
       "      <td>23</td>\n",
       "      <td>10</td>\n",
       "      <td>35</td>\n",
       "      <td>179</td>\n",
       "      <td>0</td>\n",
       "      <td>0</td>\n",
       "    </tr>\n",
       "    <tr>\n",
       "      <th>1</th>\n",
       "      <td>1016</td>\n",
       "      <td>53</td>\n",
       "      <td>4.32</td>\n",
       "      <td>36</td>\n",
       "      <td>40</td>\n",
       "      <td>0</td>\n",
       "      <td>19</td>\n",
       "      <td>0</td>\n",
       "      <td>171</td>\n",
       "      <td>62</td>\n",
       "      <td>19</td>\n",
       "      <td>12</td>\n",
       "      <td>0</td>\n",
       "      <td>183</td>\n",
       "      <td>0</td>\n",
       "      <td>0</td>\n",
       "    </tr>\n",
       "    <tr>\n",
       "      <th>2</th>\n",
       "      <td>462</td>\n",
       "      <td>58</td>\n",
       "      <td>4.10</td>\n",
       "      <td>39</td>\n",
       "      <td>41</td>\n",
       "      <td>0</td>\n",
       "      <td>35</td>\n",
       "      <td>0</td>\n",
       "      <td>172</td>\n",
       "      <td>58</td>\n",
       "      <td>31</td>\n",
       "      <td>16</td>\n",
       "      <td>25</td>\n",
       "      <td>185</td>\n",
       "      <td>0</td>\n",
       "      <td>1</td>\n",
       "    </tr>\n",
       "    <tr>\n",
       "      <th>3</th>\n",
       "      <td>1187</td>\n",
       "      <td>53</td>\n",
       "      <td>4.07</td>\n",
       "      <td>38</td>\n",
       "      <td>44</td>\n",
       "      <td>0</td>\n",
       "      <td>20</td>\n",
       "      <td>0</td>\n",
       "      <td>174</td>\n",
       "      <td>68</td>\n",
       "      <td>26</td>\n",
       "      <td>14</td>\n",
       "      <td>25</td>\n",
       "      <td>189</td>\n",
       "      <td>0</td>\n",
       "      <td>0</td>\n",
       "    </tr>\n",
       "    <tr>\n",
       "      <th>4</th>\n",
       "      <td>553</td>\n",
       "      <td>54</td>\n",
       "      <td>3.94</td>\n",
       "      <td>37</td>\n",
       "      <td>42</td>\n",
       "      <td>0</td>\n",
       "      <td>24</td>\n",
       "      <td>0</td>\n",
       "      <td>175</td>\n",
       "      <td>66</td>\n",
       "      <td>30</td>\n",
       "      <td>12</td>\n",
       "      <td>0</td>\n",
       "      <td>184</td>\n",
       "      <td>0</td>\n",
       "      <td>0</td>\n",
       "    </tr>\n",
       "  </tbody>\n",
       "</table>\n",
       "</div>"
      ],
      "text/plain": [
       "     ID  Length  Birthweight  Headcirc  Gestation  smoker  mage  mnocig  \\\n",
       "0  1360      56         4.55        34         44       0    20       0   \n",
       "1  1016      53         4.32        36         40       0    19       0   \n",
       "2   462      58         4.10        39         41       0    35       0   \n",
       "3  1187      53         4.07        38         44       0    20       0   \n",
       "4   553      54         3.94        37         42       0    24       0   \n",
       "\n",
       "   mheight  mppwt  fage  fedyrs  fnocig  fheight  lowbwt  mage35  \n",
       "0      162     57    23      10      35      179       0       0  \n",
       "1      171     62    19      12       0      183       0       0  \n",
       "2      172     58    31      16      25      185       0       1  \n",
       "3      174     68    26      14      25      189       0       0  \n",
       "4      175     66    30      12       0      184       0       0  "
      ]
     },
     "execution_count": 3,
     "metadata": {},
     "output_type": "execute_result"
    }
   ],
   "source": [
    "df.head()"
   ]
  },
  {
   "cell_type": "markdown",
   "metadata": {},
   "source": [
    "**1.Analyse descriptive**"
   ]
  },
  {
   "cell_type": "markdown",
   "metadata": {},
   "source": [
    "1.1 Analyse descriptive des variables "
   ]
  },
  {
   "cell_type": "code",
   "execution_count": 7,
   "metadata": {},
   "outputs": [
    {
     "name": "stdout",
     "output_type": "stream",
     "text": [
      "<class 'pandas.core.frame.DataFrame'>\n",
      "RangeIndex: 42 entries, 0 to 41\n",
      "Data columns (total 16 columns):\n",
      " #   Column       Non-Null Count  Dtype  \n",
      "---  ------       --------------  -----  \n",
      " 0   ID           42 non-null     int64  \n",
      " 1   Length       42 non-null     int64  \n",
      " 2   Birthweight  42 non-null     float64\n",
      " 3   Headcirc     42 non-null     int64  \n",
      " 4   Gestation    42 non-null     int64  \n",
      " 5   smoker       42 non-null     int64  \n",
      " 6   mage         42 non-null     int64  \n",
      " 7   mnocig       42 non-null     int64  \n",
      " 8   mheight      42 non-null     int64  \n",
      " 9   mppwt        42 non-null     int64  \n",
      " 10  fage         42 non-null     int64  \n",
      " 11  fedyrs       42 non-null     int64  \n",
      " 12  fnocig       42 non-null     int64  \n",
      " 13  fheight      42 non-null     int64  \n",
      " 14  lowbwt       42 non-null     int64  \n",
      " 15  mage35       42 non-null     int64  \n",
      "dtypes: float64(1), int64(15)\n",
      "memory usage: 5.4 KB\n"
     ]
    }
   ],
   "source": [
    "df.info()"
   ]
  },
  {
   "cell_type": "code",
   "execution_count": 8,
   "metadata": {},
   "outputs": [
    {
     "data": {
      "text/plain": [
       "(42, 16)"
      ]
     },
     "execution_count": 8,
     "metadata": {},
     "output_type": "execute_result"
    }
   ],
   "source": [
    "df.shape"
   ]
  },
  {
   "cell_type": "code",
   "execution_count": 9,
   "metadata": {},
   "outputs": [
    {
     "data": {
      "text/plain": [
       "ID             0\n",
       "Length         0\n",
       "Birthweight    0\n",
       "Headcirc       0\n",
       "Gestation      0\n",
       "smoker         0\n",
       "mage           0\n",
       "mnocig         0\n",
       "mheight        0\n",
       "mppwt          0\n",
       "fage           0\n",
       "fedyrs         0\n",
       "fnocig         0\n",
       "fheight        0\n",
       "lowbwt         0\n",
       "mage35         0\n",
       "dtype: int64"
      ]
     },
     "execution_count": 9,
     "metadata": {},
     "output_type": "execute_result"
    }
   ],
   "source": [
    "df.isnull().sum()\n"
   ]
  },
  {
   "cell_type": "code",
   "execution_count": 10,
   "metadata": {},
   "outputs": [
    {
     "data": {
      "text/html": [
       "<div>\n",
       "<style scoped>\n",
       "    .dataframe tbody tr th:only-of-type {\n",
       "        vertical-align: middle;\n",
       "    }\n",
       "\n",
       "    .dataframe tbody tr th {\n",
       "        vertical-align: top;\n",
       "    }\n",
       "\n",
       "    .dataframe thead th {\n",
       "        text-align: right;\n",
       "    }\n",
       "</style>\n",
       "<table border=\"1\" class=\"dataframe\">\n",
       "  <thead>\n",
       "    <tr style=\"text-align: right;\">\n",
       "      <th></th>\n",
       "      <th>ID</th>\n",
       "      <th>Length</th>\n",
       "      <th>Birthweight</th>\n",
       "      <th>Headcirc</th>\n",
       "      <th>Gestation</th>\n",
       "      <th>smoker</th>\n",
       "      <th>mage</th>\n",
       "      <th>mnocig</th>\n",
       "      <th>mheight</th>\n",
       "      <th>mppwt</th>\n",
       "      <th>fage</th>\n",
       "      <th>fedyrs</th>\n",
       "      <th>fnocig</th>\n",
       "      <th>fheight</th>\n",
       "      <th>lowbwt</th>\n",
       "      <th>mage35</th>\n",
       "    </tr>\n",
       "  </thead>\n",
       "  <tbody>\n",
       "    <tr>\n",
       "      <th>count</th>\n",
       "      <td>42.000000</td>\n",
       "      <td>42.000000</td>\n",
       "      <td>42.000000</td>\n",
       "      <td>42.000000</td>\n",
       "      <td>42.000000</td>\n",
       "      <td>42.000000</td>\n",
       "      <td>42.000000</td>\n",
       "      <td>42.000000</td>\n",
       "      <td>42.000000</td>\n",
       "      <td>42.000000</td>\n",
       "      <td>42.000000</td>\n",
       "      <td>42.000000</td>\n",
       "      <td>42.000000</td>\n",
       "      <td>42.000000</td>\n",
       "      <td>42.000000</td>\n",
       "      <td>42.000000</td>\n",
       "    </tr>\n",
       "    <tr>\n",
       "      <th>mean</th>\n",
       "      <td>894.071429</td>\n",
       "      <td>51.333333</td>\n",
       "      <td>3.312857</td>\n",
       "      <td>34.595238</td>\n",
       "      <td>39.190476</td>\n",
       "      <td>0.523810</td>\n",
       "      <td>25.547619</td>\n",
       "      <td>9.428571</td>\n",
       "      <td>164.452381</td>\n",
       "      <td>57.500000</td>\n",
       "      <td>28.904762</td>\n",
       "      <td>13.666667</td>\n",
       "      <td>17.190476</td>\n",
       "      <td>180.500000</td>\n",
       "      <td>0.142857</td>\n",
       "      <td>0.095238</td>\n",
       "    </tr>\n",
       "    <tr>\n",
       "      <th>std</th>\n",
       "      <td>467.616186</td>\n",
       "      <td>2.935624</td>\n",
       "      <td>0.603895</td>\n",
       "      <td>2.399792</td>\n",
       "      <td>2.643336</td>\n",
       "      <td>0.505487</td>\n",
       "      <td>5.666342</td>\n",
       "      <td>12.511737</td>\n",
       "      <td>6.504041</td>\n",
       "      <td>7.198408</td>\n",
       "      <td>6.863866</td>\n",
       "      <td>2.160247</td>\n",
       "      <td>17.308165</td>\n",
       "      <td>6.978189</td>\n",
       "      <td>0.354169</td>\n",
       "      <td>0.297102</td>\n",
       "    </tr>\n",
       "    <tr>\n",
       "      <th>min</th>\n",
       "      <td>27.000000</td>\n",
       "      <td>43.000000</td>\n",
       "      <td>1.920000</td>\n",
       "      <td>30.000000</td>\n",
       "      <td>33.000000</td>\n",
       "      <td>0.000000</td>\n",
       "      <td>18.000000</td>\n",
       "      <td>0.000000</td>\n",
       "      <td>149.000000</td>\n",
       "      <td>45.000000</td>\n",
       "      <td>19.000000</td>\n",
       "      <td>10.000000</td>\n",
       "      <td>0.000000</td>\n",
       "      <td>169.000000</td>\n",
       "      <td>0.000000</td>\n",
       "      <td>0.000000</td>\n",
       "    </tr>\n",
       "    <tr>\n",
       "      <th>25%</th>\n",
       "      <td>537.250000</td>\n",
       "      <td>50.000000</td>\n",
       "      <td>2.940000</td>\n",
       "      <td>33.000000</td>\n",
       "      <td>38.000000</td>\n",
       "      <td>0.000000</td>\n",
       "      <td>20.250000</td>\n",
       "      <td>0.000000</td>\n",
       "      <td>161.000000</td>\n",
       "      <td>52.250000</td>\n",
       "      <td>23.000000</td>\n",
       "      <td>12.000000</td>\n",
       "      <td>0.000000</td>\n",
       "      <td>175.250000</td>\n",
       "      <td>0.000000</td>\n",
       "      <td>0.000000</td>\n",
       "    </tr>\n",
       "    <tr>\n",
       "      <th>50%</th>\n",
       "      <td>821.000000</td>\n",
       "      <td>52.000000</td>\n",
       "      <td>3.295000</td>\n",
       "      <td>34.000000</td>\n",
       "      <td>39.500000</td>\n",
       "      <td>1.000000</td>\n",
       "      <td>24.000000</td>\n",
       "      <td>4.500000</td>\n",
       "      <td>164.500000</td>\n",
       "      <td>57.000000</td>\n",
       "      <td>29.500000</td>\n",
       "      <td>14.000000</td>\n",
       "      <td>18.500000</td>\n",
       "      <td>180.500000</td>\n",
       "      <td>0.000000</td>\n",
       "      <td>0.000000</td>\n",
       "    </tr>\n",
       "    <tr>\n",
       "      <th>75%</th>\n",
       "      <td>1269.500000</td>\n",
       "      <td>53.000000</td>\n",
       "      <td>3.647500</td>\n",
       "      <td>36.000000</td>\n",
       "      <td>41.000000</td>\n",
       "      <td>1.000000</td>\n",
       "      <td>29.000000</td>\n",
       "      <td>15.750000</td>\n",
       "      <td>169.500000</td>\n",
       "      <td>62.000000</td>\n",
       "      <td>32.000000</td>\n",
       "      <td>16.000000</td>\n",
       "      <td>25.000000</td>\n",
       "      <td>184.750000</td>\n",
       "      <td>0.000000</td>\n",
       "      <td>0.000000</td>\n",
       "    </tr>\n",
       "    <tr>\n",
       "      <th>max</th>\n",
       "      <td>1764.000000</td>\n",
       "      <td>58.000000</td>\n",
       "      <td>4.570000</td>\n",
       "      <td>39.000000</td>\n",
       "      <td>45.000000</td>\n",
       "      <td>1.000000</td>\n",
       "      <td>41.000000</td>\n",
       "      <td>50.000000</td>\n",
       "      <td>181.000000</td>\n",
       "      <td>78.000000</td>\n",
       "      <td>46.000000</td>\n",
       "      <td>16.000000</td>\n",
       "      <td>50.000000</td>\n",
       "      <td>200.000000</td>\n",
       "      <td>1.000000</td>\n",
       "      <td>1.000000</td>\n",
       "    </tr>\n",
       "  </tbody>\n",
       "</table>\n",
       "</div>"
      ],
      "text/plain": [
       "                ID     Length  Birthweight   Headcirc  Gestation     smoker  \\\n",
       "count    42.000000  42.000000    42.000000  42.000000  42.000000  42.000000   \n",
       "mean    894.071429  51.333333     3.312857  34.595238  39.190476   0.523810   \n",
       "std     467.616186   2.935624     0.603895   2.399792   2.643336   0.505487   \n",
       "min      27.000000  43.000000     1.920000  30.000000  33.000000   0.000000   \n",
       "25%     537.250000  50.000000     2.940000  33.000000  38.000000   0.000000   \n",
       "50%     821.000000  52.000000     3.295000  34.000000  39.500000   1.000000   \n",
       "75%    1269.500000  53.000000     3.647500  36.000000  41.000000   1.000000   \n",
       "max    1764.000000  58.000000     4.570000  39.000000  45.000000   1.000000   \n",
       "\n",
       "            mage     mnocig     mheight      mppwt       fage     fedyrs  \\\n",
       "count  42.000000  42.000000   42.000000  42.000000  42.000000  42.000000   \n",
       "mean   25.547619   9.428571  164.452381  57.500000  28.904762  13.666667   \n",
       "std     5.666342  12.511737    6.504041   7.198408   6.863866   2.160247   \n",
       "min    18.000000   0.000000  149.000000  45.000000  19.000000  10.000000   \n",
       "25%    20.250000   0.000000  161.000000  52.250000  23.000000  12.000000   \n",
       "50%    24.000000   4.500000  164.500000  57.000000  29.500000  14.000000   \n",
       "75%    29.000000  15.750000  169.500000  62.000000  32.000000  16.000000   \n",
       "max    41.000000  50.000000  181.000000  78.000000  46.000000  16.000000   \n",
       "\n",
       "          fnocig     fheight     lowbwt     mage35  \n",
       "count  42.000000   42.000000  42.000000  42.000000  \n",
       "mean   17.190476  180.500000   0.142857   0.095238  \n",
       "std    17.308165    6.978189   0.354169   0.297102  \n",
       "min     0.000000  169.000000   0.000000   0.000000  \n",
       "25%     0.000000  175.250000   0.000000   0.000000  \n",
       "50%    18.500000  180.500000   0.000000   0.000000  \n",
       "75%    25.000000  184.750000   0.000000   0.000000  \n",
       "max    50.000000  200.000000   1.000000   1.000000  "
      ]
     },
     "execution_count": 10,
     "metadata": {},
     "output_type": "execute_result"
    }
   ],
   "source": [
    "df.describe()"
   ]
  },
  {
   "cell_type": "code",
   "execution_count": 11,
   "metadata": {},
   "outputs": [],
   "source": [
    "#rp.summary_cont(df)"
   ]
  },
  {
   "cell_type": "code",
   "execution_count": 12,
   "metadata": {},
   "outputs": [
    {
     "data": {
      "image/png": "[encoded data removed]",
      "text/plain": [
       "<Figure size 1440x1440 with 16 Axes>"
      ]
     },
     "metadata": {
      "needs_background": "light"
     },
     "output_type": "display_data"
    }
   ],
   "source": [
    "df.hist(figsize=(20, 20))\n",
    "plt.show()"
   ]
  },
  {
   "cell_type": "code",
   "execution_count": 13,
   "metadata": {},
   "outputs": [
    {
     "name": "stdout",
     "output_type": "stream",
     "text": [
      "la distribution des mères fumeuses ou non est  : \n",
      " 1    22\n",
      "0    20\n",
      "Name: smoker, dtype: int64\n"
     ]
    },
    {
     "data": {
      "text/plain": [
       "<AxesSubplot:>"
      ]
     },
     "execution_count": 13,
     "metadata": {},
     "output_type": "execute_result"
    },
    {
     "data": {
      "image/png": "[encoded data removed]",
      "text/plain": [
       "<Figure size 432x288 with 1 Axes>"
      ]
     },
     "metadata": {
      "needs_background": "light"
     },
     "output_type": "display_data"
    }
   ],
   "source": [
    "print(f\"la distribution des mères fumeuses ou non est  : \\n {df['smoker'].value_counts()}\")\n",
    "df['smoker'].value_counts().plot.bar()"
   ]
  },
  {
   "cell_type": "code",
   "execution_count": 14,
   "metadata": {},
   "outputs": [
    {
     "name": "stdout",
     "output_type": "stream",
     "text": [
      "0     False\n",
      "1     False\n",
      "2     False\n",
      "3     False\n",
      "4     False\n",
      "5     False\n",
      "6     False\n",
      "7     False\n",
      "8     False\n",
      "9     False\n",
      "10    False\n",
      "11    False\n",
      "12    False\n",
      "13    False\n",
      "14    False\n",
      "15    False\n",
      "16    False\n",
      "17    False\n",
      "18    False\n",
      "19    False\n",
      "20     True\n",
      "21     True\n",
      "22     True\n",
      "23     True\n",
      "24     True\n",
      "25     True\n",
      "26     True\n",
      "27     True\n",
      "28     True\n",
      "29     True\n",
      "30     True\n",
      "31     True\n",
      "32     True\n",
      "33     True\n",
      "34     True\n",
      "35     True\n",
      "36     True\n",
      "37     True\n",
      "38     True\n",
      "39     True\n",
      "40     True\n",
      "41     True\n",
      "Name: mnocig, dtype: bool\n"
     ]
    }
   ],
   "source": [
    "m_smoker = df['mnocig']!=0\n",
    "print(m_smoker)"
   ]
  },
  {
   "cell_type": "code",
   "execution_count": 15,
   "metadata": {},
   "outputs": [
    {
     "data": {
      "text/plain": [
       "True     52.380952\n",
       "False    47.619048\n",
       "Name: mnocig, dtype: float64"
      ]
     },
     "execution_count": 15,
     "metadata": {},
     "output_type": "execute_result"
    }
   ],
   "source": [
    "m_smoker_percent = m_smoker.value_counts()*100/len(df['smoker'])\n",
    "m_smoker_percent"
   ]
  },
  {
   "cell_type": "code",
   "execution_count": 16,
   "metadata": {},
   "outputs": [
    {
     "data": {
      "text/plain": [
       "<AxesSubplot:>"
      ]
     },
     "execution_count": 16,
     "metadata": {},
     "output_type": "execute_result"
    },
    {
     "data": {
      "image/png": "[encoded data removed]",
      "text/plain": [
       "<Figure size 432x288 with 1 Axes>"
      ]
     },
     "metadata": {
      "needs_background": "light"
     },
     "output_type": "display_data"
    }
   ],
   "source": [
    "m_smoker.value_counts().hist()"
   ]
  },
  {
   "cell_type": "code",
   "execution_count": 17,
   "metadata": {},
   "outputs": [
    {
     "data": {
      "text/plain": [
       "Text(27.0, 0.5, 'number of mothers')"
      ]
     },
     "execution_count": 17,
     "metadata": {},
     "output_type": "execute_result"
    },
    {
     "data": {
      "image/png": "[encoded data removed]",
      "text/plain": [
       "<Figure size 432x288 with 1 Axes>"
      ]
     },
     "metadata": {
      "needs_background": "light"
     },
     "output_type": "display_data"
    }
   ],
   "source": [
    "fig, ax = plt.subplots()\n",
    "fig.canvas.draw()\n",
    "labels = ['mnocig']\n",
    "\n",
    "df['mnocig'].value_counts().plot.bar()\n",
    "\n",
    "plt.xticks(rotation=0)\n",
    "\n",
    "ax.set_xlabel('number of cigares')\n",
    "ax.set_ylabel('number of mothers')"
   ]
  },
  {
   "cell_type": "code",
   "execution_count": 18,
   "metadata": {},
   "outputs": [
    {
     "data": {
      "text/plain": [
       "0      True\n",
       "1     False\n",
       "2      True\n",
       "3      True\n",
       "4     False\n",
       "5     False\n",
       "6     False\n",
       "7      True\n",
       "8      True\n",
       "9     False\n",
       "10    False\n",
       "11    False\n",
       "12    False\n",
       "13     True\n",
       "14     True\n",
       "15    False\n",
       "16    False\n",
       "17     True\n",
       "18     True\n",
       "19    False\n",
       "20     True\n",
       "21     True\n",
       "22    False\n",
       "23     True\n",
       "24     True\n",
       "25     True\n",
       "26     True\n",
       "27     True\n",
       "28     True\n",
       "29     True\n",
       "30     True\n",
       "31     True\n",
       "32     True\n",
       "33    False\n",
       "34     True\n",
       "35    False\n",
       "36     True\n",
       "37     True\n",
       "38     True\n",
       "39     True\n",
       "40     True\n",
       "41    False\n",
       "Name: fnocig, dtype: bool"
      ]
     },
     "execution_count": 18,
     "metadata": {},
     "output_type": "execute_result"
    }
   ],
   "source": [
    "f_smoker_mask = df ['fnocig']!=0\n",
    "f_smoker_mask"
   ]
  },
  {
   "cell_type": "code",
   "execution_count": 19,
   "metadata": {},
   "outputs": [
    {
     "data": {
      "text/plain": [
       "27"
      ]
     },
     "execution_count": 19,
     "metadata": {},
     "output_type": "execute_result"
    }
   ],
   "source": [
    "f_smoker = f_smoker_mask.sum()\n",
    "f_smoker"
   ]
  },
  {
   "cell_type": "code",
   "execution_count": 20,
   "metadata": {},
   "outputs": [
    {
     "data": {
      "text/plain": [
       "True     64.285714\n",
       "False    35.714286\n",
       "Name: fnocig, dtype: float64"
      ]
     },
     "execution_count": 20,
     "metadata": {},
     "output_type": "execute_result"
    }
   ],
   "source": [
    "f_smoker_percent = f_smoker_mask.value_counts()*100/len(df['fnocig'])\n",
    "f_smoker_percent"
   ]
  },
  {
   "cell_type": "code",
   "execution_count": 21,
   "metadata": {},
   "outputs": [
    {
     "data": {
      "text/plain": [
       "Text(27.0, 0.5, 'number of fathers')"
      ]
     },
     "execution_count": 21,
     "metadata": {},
     "output_type": "execute_result"
    },
    {
     "data": {
      "image/png": "[encoded data removed]",
      "text/plain": [
       "<Figure size 432x288 with 1 Axes>"
      ]
     },
     "metadata": {
      "needs_background": "light"
     },
     "output_type": "display_data"
    }
   ],
   "source": [
    "fig, ax = plt.subplots()\n",
    "fig.canvas.draw()\n",
    "labels = ['mnocig']\n",
    "\n",
    "df['fnocig'].value_counts().plot.bar()\n",
    "\n",
    "plt.xticks(rotation=0)\n",
    "\n",
    "ax.set_xlabel('number of cigares')\n",
    "ax.set_ylabel('number of fathers')"
   ]
  },
  {
   "cell_type": "markdown",
   "metadata": {},
   "source": [
    "1.2 Analyse par rapport à la variable à expliquer \"Birthweight\""
   ]
  },
  {
   "cell_type": "code",
   "execution_count": 22,
   "metadata": {},
   "outputs": [
    {
     "name": "stdout",
     "output_type": "stream",
     "text": [
      "\n",
      "\n",
      "      Variable     N    Mean      SD      SE  95% Conf.  Interval\n",
      "0  Birthweight  42.0  3.3129  0.6039  0.0932     3.1247     3.501\n"
     ]
    }
   ],
   "source": [
    "print(rp.summary_cont(df['Birthweight']))"
   ]
  },
  {
   "cell_type": "code",
   "execution_count": 23,
   "metadata": {},
   "outputs": [
    {
     "data": {
      "text/plain": [
       "0.038159581146821164"
      ]
     },
     "execution_count": 23,
     "metadata": {},
     "output_type": "execute_result"
    }
   ],
   "source": [
    "df['Birthweight'].kurtosis()"
   ]
  },
  {
   "cell_type": "code",
   "execution_count": 24,
   "metadata": {},
   "outputs": [
    {
     "data": {
      "image/png": "[encoded data removed]",
      "text/plain": [
       "<Figure size 432x288 with 1 Axes>"
      ]
     },
     "metadata": {
      "needs_background": "light"
     },
     "output_type": "display_data"
    }
   ],
   "source": [
    "df['Birthweight'].hist()\n",
    "plt.xlabel('Birthweight')\n",
    "plt.ylabel('frequency')\n",
    "plt.title('Dispersion of Birthweight')\n",
    "plt.show()"
   ]
  },
  {
   "cell_type": "code",
   "execution_count": 25,
   "metadata": {},
   "outputs": [
    {
     "data": {
      "text/plain": [
       "Text(0.5, 1.0, 'BoxPlot Birthweight/Gestation')"
      ]
     },
     "execution_count": 25,
     "metadata": {},
     "output_type": "execute_result"
    },
    {
     "data": {
      "image/png": "[encoded data removed]",
      "text/plain": [
       "<Figure size 432x288 with 1 Axes>"
      ]
     },
     "metadata": {
      "needs_background": "light"
     },
     "output_type": "display_data"
    }
   ],
   "source": [
    "sns.boxplot(data=df, x='Gestation', y='Birthweight', palette='PuBu').set_title('BoxPlot Birthweight/Gestation')"
   ]
  },
  {
   "cell_type": "code",
   "execution_count": 26,
   "metadata": {},
   "outputs": [
    {
     "data": {
      "text/plain": [
       "Text(0.5, 1.0, 'BoxPlot Birthweight/mage')"
      ]
     },
     "execution_count": 26,
     "metadata": {},
     "output_type": "execute_result"
    },
    {
     "data": {
      "image/png": "[encoded data removed]",
      "text/plain": [
       "<Figure size 432x288 with 1 Axes>"
      ]
     },
     "metadata": {
      "needs_background": "light"
     },
     "output_type": "display_data"
    }
   ],
   "source": [
    "sns.boxplot(data=df, x='mage', y='Birthweight', palette='PuBu').set_title('BoxPlot Birthweight/mage')"
   ]
  },
  {
   "cell_type": "code",
   "execution_count": 27,
   "metadata": {},
   "outputs": [
    {
     "data": {
      "text/plain": [
       "Text(0.5, 1.0, 'BoxPlot Birthweight/smoker')"
      ]
     },
     "execution_count": 27,
     "metadata": {},
     "output_type": "execute_result"
    },
    {
     "data": {
      "image/png": "[encoded data removed]",
      "text/plain": [
       "<Figure size 432x288 with 1 Axes>"
      ]
     },
     "metadata": {
      "needs_background": "light"
     },
     "output_type": "display_data"
    }
   ],
   "source": [
    "sns.boxplot(data=df, x='smoker', y='Birthweight', palette='PuBu').set_title('BoxPlot Birthweight/smoker')"
   ]
  },
  {
   "cell_type": "code",
   "execution_count": 28,
   "metadata": {},
   "outputs": [
    {
     "data": {
      "text/plain": [
       "Text(0.5, 1.0, 'BoxPlot Birthweight/Length')"
      ]
     },
     "execution_count": 28,
     "metadata": {},
     "output_type": "execute_result"
    },
    {
     "data": {
      "image/png": "[encoded data removed]",
      "text/plain": [
       "<Figure size 432x288 with 1 Axes>"
      ]
     },
     "metadata": {
      "needs_background": "light"
     },
     "output_type": "display_data"
    }
   ],
   "source": [
    "sns.boxplot(data=df, x='Length', y='Birthweight', palette='PuBu').set_title('BoxPlot Birthweight/Length')"
   ]
  },
  {
   "cell_type": "code",
   "execution_count": 29,
   "metadata": {},
   "outputs": [
    {
     "data": {
      "text/plain": [
       "Text(0.5, 1.0, 'BoxPlot Birthweight/Headcirc')"
      ]
     },
     "execution_count": 29,
     "metadata": {},
     "output_type": "execute_result"
    },
    {
     "data": {
      "image/png": "[encoded data removed]",
      "text/plain": [
       "<Figure size 432x288 with 1 Axes>"
      ]
     },
     "metadata": {
      "needs_background": "light"
     },
     "output_type": "display_data"
    }
   ],
   "source": [
    "sns.boxplot(data=df, x='Headcirc', y='Birthweight', palette='PuBu').set_title('BoxPlot Birthweight/Headcirc')"
   ]
  },
  {
   "cell_type": "markdown",
   "metadata": {},
   "source": [
    "** Analyse plus en détail de la variable Birthweight avec l'age des mères\"**"
   ]
  },
  {
   "cell_type": "code",
   "execution_count": 30,
   "metadata": {},
   "outputs": [],
   "source": [
    "birth_mask = df['Birthweight']==3 #le poids moyen des bébés"
   ]
  },
  {
   "cell_type": "code",
   "execution_count": 31,
   "metadata": {},
   "outputs": [
    {
     "data": {
      "text/plain": [
       "1"
      ]
     },
     "execution_count": 31,
     "metadata": {},
     "output_type": "execute_result"
    }
   ],
   "source": [
    "birth_mask.sum()"
   ]
  },
  {
   "cell_type": "code",
   "execution_count": 32,
   "metadata": {},
   "outputs": [
    {
     "name": "stdout",
     "output_type": "stream",
     "text": [
      "l'âge médian des mères est de : 24.0\n"
     ]
    }
   ],
   "source": [
    "print(f\"l'âge médian des mères est de : {df['mage'].median()}\")"
   ]
  },
  {
   "cell_type": "code",
   "execution_count": 33,
   "metadata": {},
   "outputs": [
    {
     "name": "stdout",
     "output_type": "stream",
     "text": [
      "      ID  Length  Birthweight  Headcirc  Gestation  smoker  mage  mnocig  \\\n",
      "4    553      54         3.94        37         42       0    24       0   \n",
      "6    820      52         3.77        34         40       0    24       0   \n",
      "11  1088      51         3.27        36         40       0    24       0   \n",
      "19  1313      43         2.65        32         33       0    24       0   \n",
      "\n",
      "    mheight  mppwt  fage  fedyrs  fnocig  fheight  lowbwt  mage35  \n",
      "4       175     66    30      12       0      184       0       0  \n",
      "6       157     50    31      16       0      173       0       0  \n",
      "11      168     53    29      16       0      181       0       0  \n",
      "19      149     45    26      16       0      169       1       0  \n"
     ]
    }
   ],
   "source": [
    "df_median_mage = df[df['mage'] == 24]\n",
    "print(df_median_mage)"
   ]
  },
  {
   "cell_type": "code",
   "execution_count": 34,
   "metadata": {},
   "outputs": [
    {
     "data": {
      "text/plain": [
       "array([4], dtype=int64)"
      ]
     },
     "execution_count": 34,
     "metadata": {},
     "output_type": "execute_result"
    }
   ],
   "source": [
    "df_median_mage.count().unique()"
   ]
  },
  {
   "cell_type": "code",
   "execution_count": 35,
   "metadata": {},
   "outputs": [
    {
     "data": {
      "text/plain": [
       "4     3.94\n",
       "6     3.77\n",
       "11    3.27\n",
       "19    2.65\n",
       "Name: Birthweight, dtype: float64"
      ]
     },
     "execution_count": 35,
     "metadata": {},
     "output_type": "execute_result"
    }
   ],
   "source": [
    "df_median_mage['Birthweight']"
   ]
  },
  {
   "cell_type": "code",
   "execution_count": 36,
   "metadata": {},
   "outputs": [
    {
     "name": "stdout",
     "output_type": "stream",
     "text": [
      "les femmes ayant un âge >= 35 :\n",
      " 0    38\n",
      "1     4\n",
      "Name: mage35, dtype: int64\n"
     ]
    }
   ],
   "source": [
    "print(f\"les femmes ayant un âge >= 35 :\\n {df['mage35'].value_counts()}\")"
   ]
  },
  {
   "cell_type": "code",
   "execution_count": 37,
   "metadata": {},
   "outputs": [
    {
     "name": "stdout",
     "output_type": "stream",
     "text": [
      "      ID  Length  Birthweight  Headcirc  Gestation  smoker  mage  mnocig  \\\n",
      "2    462      58         4.10        39         41       0    35       0   \n",
      "25   300      46         2.05        32         35       1    41       7   \n",
      "35    27      53         3.55        37         41       1    37      25   \n",
      "41  1272      53         2.75        32         40       1    37      50   \n",
      "\n",
      "    mheight  mppwt  fage  fedyrs  fnocig  fheight  lowbwt  mage35  \n",
      "2       172     58    31      16      25      185       0       1  \n",
      "25      166     57    37      14      25      173       1       1  \n",
      "35      161     66    46      16       0      175       0       1  \n",
      "41      168     61    31      16       0      173       0       1  \n"
     ]
    }
   ],
   "source": [
    "print(df[df['mage35'] == 1])"
   ]
  },
  {
   "cell_type": "code",
   "execution_count": 38,
   "metadata": {},
   "outputs": [
    {
     "name": "stdout",
     "output_type": "stream",
     "text": [
      "ID              27.00\n",
      "Length          43.00\n",
      "Birthweight      1.92\n",
      "Headcirc        30.00\n",
      "Gestation       33.00\n",
      "smoker           0.00\n",
      "mage            18.00\n",
      "mnocig           0.00\n",
      "mheight        149.00\n",
      "mppwt           45.00\n",
      "fage            19.00\n",
      "fedyrs          10.00\n",
      "fnocig           0.00\n",
      "fheight        169.00\n",
      "lowbwt           0.00\n",
      "mage35           0.00\n",
      "dtype: float64\n"
     ]
    }
   ],
   "source": [
    "print(df[df['mage'] != (35,24)].min())"
   ]
  },
  {
   "cell_type": "code",
   "execution_count": 39,
   "metadata": {},
   "outputs": [
    {
     "name": "stdout",
     "output_type": "stream",
     "text": [
      "ID             1764.00\n",
      "Length           58.00\n",
      "Birthweight       4.57\n",
      "Headcirc         39.00\n",
      "Gestation        45.00\n",
      "smoker            1.00\n",
      "mage             41.00\n",
      "mnocig           50.00\n",
      "mheight         181.00\n",
      "mppwt            78.00\n",
      "fage             46.00\n",
      "fedyrs           16.00\n",
      "fnocig           50.00\n",
      "fheight         200.00\n",
      "lowbwt            1.00\n",
      "mage35            1.00\n",
      "dtype: float64\n"
     ]
    }
   ],
   "source": [
    "print(df[df['mage'] != (35,24)].max())"
   ]
  },
  {
   "cell_type": "markdown",
   "metadata": {},
   "source": [
    "1.3 Analyse de corrélation des variables "
   ]
  },
  {
   "cell_type": "code",
   "execution_count": 40,
   "metadata": {},
   "outputs": [],
   "source": [
    "TARGET = 'Birthweight'\n",
    "FEATURES = df.drop(['Birthweight','ID'], axis=1).columns"
   ]
  },
  {
   "cell_type": "code",
   "execution_count": 41,
   "metadata": {},
   "outputs": [],
   "source": [
    "corr_matrix = df.corr(method='spearman', min_periods=1)"
   ]
  },
  {
   "cell_type": "code",
   "execution_count": 42,
   "metadata": {},
   "outputs": [
    {
     "data": {
      "image/png": "[encoded data removed]",
      "text/plain": [
       "<Figure size 432x288 with 2 Axes>"
      ]
     },
     "metadata": {
      "needs_background": "light"
     },
     "output_type": "display_data"
    }
   ],
   "source": [
    "cmap = sns.diverging_palette(220, 10, as_cmap=True)\n",
    "matrix = sns.heatmap(corr_matrix, cmap=cmap, cbar_kws={\"shrink\": .5}, linewidths=.5)\n",
    "plt.show()"
   ]
  },
  {
   "cell_type": "code",
   "execution_count": 43,
   "metadata": {},
   "outputs": [],
   "source": [
    "corr_matrix_1 = df[FEATURES].corr(method='spearman', min_periods=1)"
   ]
  },
  {
   "cell_type": "code",
   "execution_count": 44,
   "metadata": {},
   "outputs": [
    {
     "data": {
      "image/png": "[encoded data removed]",
      "text/plain": [
       "<Figure size 432x288 with 2 Axes>"
      ]
     },
     "metadata": {
      "needs_background": "light"
     },
     "output_type": "display_data"
    }
   ],
   "source": [
    "cmap = sns.diverging_palette(220, 10, as_cmap=True)\n",
    "matrix = sns.heatmap(corr_matrix_1, cmap=cmap, cbar_kws={\"shrink\": .5}, linewidths=.5)\n",
    "plt.show()"
   ]
  },
  {
   "cell_type": "markdown",
   "metadata": {},
   "source": [
    "**2. FEATURES ENGINEERING**"
   ]
  },
  {
   "cell_type": "markdown",
   "metadata": {},
   "source": [
    "2.1 Modification des variables qualitatives nominales en variables categorielles en plus de fage et mage pour pouvoir créer de nouvelles variables"
   ]
  },
  {
   "cell_type": "code",
   "execution_count": 45,
   "metadata": {},
   "outputs": [],
   "source": [
    "df_cat = df.astype({\"smoker\":\"category\", \"lowbwt\":\"category\", \"mage35\":\"category\", \"mage\":\"category\", \"fage\":\"category\"})"
   ]
  },
  {
   "cell_type": "code",
   "execution_count": 46,
   "metadata": {},
   "outputs": [
    {
     "name": "stdout",
     "output_type": "stream",
     "text": [
      "<class 'pandas.core.frame.DataFrame'>\n",
      "RangeIndex: 42 entries, 0 to 41\n",
      "Data columns (total 16 columns):\n",
      " #   Column       Non-Null Count  Dtype   \n",
      "---  ------       --------------  -----   \n",
      " 0   ID           42 non-null     int64   \n",
      " 1   Length       42 non-null     int64   \n",
      " 2   Birthweight  42 non-null     float64 \n",
      " 3   Headcirc     42 non-null     int64   \n",
      " 4   Gestation    42 non-null     int64   \n",
      " 5   smoker       42 non-null     category\n",
      " 6   mage         42 non-null     category\n",
      " 7   mnocig       42 non-null     int64   \n",
      " 8   mheight      42 non-null     int64   \n",
      " 9   mppwt        42 non-null     int64   \n",
      " 10  fage         42 non-null     category\n",
      " 11  fedyrs       42 non-null     int64   \n",
      " 12  fnocig       42 non-null     int64   \n",
      " 13  fheight      42 non-null     int64   \n",
      " 14  lowbwt       42 non-null     category\n",
      " 15  mage35       42 non-null     category\n",
      "dtypes: category(5), float64(1), int64(10)\n",
      "memory usage: 5.7 KB\n"
     ]
    }
   ],
   "source": [
    "df_cat.info()"
   ]
  },
  {
   "cell_type": "markdown",
   "metadata": {},
   "source": [
    "2.2 Modification des variables categorielles en varibles binaires "
   ]
  },
  {
   "cell_type": "markdown",
   "metadata": {},
   "source": [
    "pas nécessaire vu qu'elles sont déjà en binaire"
   ]
  },
  {
   "cell_type": "markdown",
   "metadata": {},
   "source": [
    "2.3 Création de nouvelles variables pertinentes"
   ]
  },
  {
   "cell_type": "code",
   "execution_count": 47,
   "metadata": {},
   "outputs": [
    {
     "data": {
      "text/plain": [
       "Index(['ID', 'Length', 'Birthweight', 'Headcirc', 'Gestation', 'smoker',\n",
       "       'mage', 'mnocig', 'mheight', 'mppwt', 'fage', 'fedyrs', 'fnocig',\n",
       "       'fheight', 'lowbwt', 'mage35'],\n",
       "      dtype='object')"
      ]
     },
     "execution_count": 47,
     "metadata": {},
     "output_type": "execute_result"
    }
   ],
   "source": [
    "df.columns"
   ]
  },
  {
   "cell_type": "code",
   "execution_count": 48,
   "metadata": {},
   "outputs": [],
   "source": [
    "#IMC de la mère\n",
    "df['IMC_mother'] = df['mppwt']/((df['mheight']/100)**2)"
   ]
  },
  {
   "cell_type": "code",
   "execution_count": 49,
   "metadata": {},
   "outputs": [
    {
     "data": {
      "text/plain": [
       "0    21.719250\n",
       "1    21.203105\n",
       "2    19.605192\n",
       "3    22.460034\n",
       "4    21.551020\n",
       "Name: IMC_mother, dtype: float64"
      ]
     },
     "execution_count": 49,
     "metadata": {},
     "output_type": "execute_result"
    }
   ],
   "source": [
    "df['IMC_mother'].head()"
   ]
  },
  {
   "cell_type": "code",
   "execution_count": 50,
   "metadata": {},
   "outputs": [
    {
     "name": "stdout",
     "output_type": "stream",
     "text": [
      "aucune mère n'est en surpoids\n"
     ]
    }
   ],
   "source": [
    "i=25 #base de calcul conventionnelle pour déterminer si la personne est en surpoids ou pas.\n",
    "\n",
    "if  i>25 in df['IMC_mother'] :\n",
    "    print(f\"{df['IMC_mother'].count()} sont en surpoids\")\n",
    "else :\n",
    "    print(\"aucune mère n'est en surpoids\")\n",
    "i+=1"
   ]
  },
  {
   "cell_type": "code",
   "execution_count": 51,
   "metadata": {},
   "outputs": [],
   "source": [
    "#IMC bébé\n",
    "df['IMC_baby'] = df['Birthweight']/((df['Length']/100)**2)"
   ]
  },
  {
   "cell_type": "code",
   "execution_count": 52,
   "metadata": {},
   "outputs": [
    {
     "data": {
      "text/plain": [
       "0    14.508929\n",
       "1    15.379138\n",
       "2    12.187872\n",
       "3    14.489142\n",
       "4    13.511660\n",
       "Name: IMC_baby, dtype: float64"
      ]
     },
     "execution_count": 52,
     "metadata": {},
     "output_type": "execute_result"
    }
   ],
   "source": [
    "df['IMC_baby'].head()"
   ]
  },
  {
   "cell_type": "code",
   "execution_count": 53,
   "metadata": {},
   "outputs": [
    {
     "data": {
      "text/html": [
       "<div>\n",
       "<style scoped>\n",
       "    .dataframe tbody tr th:only-of-type {\n",
       "        vertical-align: middle;\n",
       "    }\n",
       "\n",
       "    .dataframe tbody tr th {\n",
       "        vertical-align: top;\n",
       "    }\n",
       "\n",
       "    .dataframe thead th {\n",
       "        text-align: right;\n",
       "    }\n",
       "</style>\n",
       "<table border=\"1\" class=\"dataframe\">\n",
       "  <thead>\n",
       "    <tr style=\"text-align: right;\">\n",
       "      <th></th>\n",
       "      <th>ID</th>\n",
       "      <th>Length</th>\n",
       "      <th>Birthweight</th>\n",
       "      <th>Headcirc</th>\n",
       "      <th>Gestation</th>\n",
       "      <th>smoker</th>\n",
       "      <th>mage</th>\n",
       "      <th>mnocig</th>\n",
       "      <th>mheight</th>\n",
       "      <th>mppwt</th>\n",
       "      <th>fage</th>\n",
       "      <th>fedyrs</th>\n",
       "      <th>fnocig</th>\n",
       "      <th>fheight</th>\n",
       "      <th>lowbwt</th>\n",
       "      <th>mage35</th>\n",
       "      <th>IMC_mother</th>\n",
       "      <th>IMC_baby</th>\n",
       "    </tr>\n",
       "  </thead>\n",
       "  <tbody>\n",
       "    <tr>\n",
       "      <th>0</th>\n",
       "      <td>1360</td>\n",
       "      <td>56</td>\n",
       "      <td>4.55</td>\n",
       "      <td>34</td>\n",
       "      <td>44</td>\n",
       "      <td>0</td>\n",
       "      <td>20</td>\n",
       "      <td>0</td>\n",
       "      <td>162</td>\n",
       "      <td>57</td>\n",
       "      <td>23</td>\n",
       "      <td>10</td>\n",
       "      <td>35</td>\n",
       "      <td>179</td>\n",
       "      <td>0</td>\n",
       "      <td>0</td>\n",
       "      <td>21.719250</td>\n",
       "      <td>14.508929</td>\n",
       "    </tr>\n",
       "    <tr>\n",
       "      <th>1</th>\n",
       "      <td>1016</td>\n",
       "      <td>53</td>\n",
       "      <td>4.32</td>\n",
       "      <td>36</td>\n",
       "      <td>40</td>\n",
       "      <td>0</td>\n",
       "      <td>19</td>\n",
       "      <td>0</td>\n",
       "      <td>171</td>\n",
       "      <td>62</td>\n",
       "      <td>19</td>\n",
       "      <td>12</td>\n",
       "      <td>0</td>\n",
       "      <td>183</td>\n",
       "      <td>0</td>\n",
       "      <td>0</td>\n",
       "      <td>21.203105</td>\n",
       "      <td>15.379138</td>\n",
       "    </tr>\n",
       "    <tr>\n",
       "      <th>2</th>\n",
       "      <td>462</td>\n",
       "      <td>58</td>\n",
       "      <td>4.10</td>\n",
       "      <td>39</td>\n",
       "      <td>41</td>\n",
       "      <td>0</td>\n",
       "      <td>35</td>\n",
       "      <td>0</td>\n",
       "      <td>172</td>\n",
       "      <td>58</td>\n",
       "      <td>31</td>\n",
       "      <td>16</td>\n",
       "      <td>25</td>\n",
       "      <td>185</td>\n",
       "      <td>0</td>\n",
       "      <td>1</td>\n",
       "      <td>19.605192</td>\n",
       "      <td>12.187872</td>\n",
       "    </tr>\n",
       "    <tr>\n",
       "      <th>3</th>\n",
       "      <td>1187</td>\n",
       "      <td>53</td>\n",
       "      <td>4.07</td>\n",
       "      <td>38</td>\n",
       "      <td>44</td>\n",
       "      <td>0</td>\n",
       "      <td>20</td>\n",
       "      <td>0</td>\n",
       "      <td>174</td>\n",
       "      <td>68</td>\n",
       "      <td>26</td>\n",
       "      <td>14</td>\n",
       "      <td>25</td>\n",
       "      <td>189</td>\n",
       "      <td>0</td>\n",
       "      <td>0</td>\n",
       "      <td>22.460034</td>\n",
       "      <td>14.489142</td>\n",
       "    </tr>\n",
       "    <tr>\n",
       "      <th>4</th>\n",
       "      <td>553</td>\n",
       "      <td>54</td>\n",
       "      <td>3.94</td>\n",
       "      <td>37</td>\n",
       "      <td>42</td>\n",
       "      <td>0</td>\n",
       "      <td>24</td>\n",
       "      <td>0</td>\n",
       "      <td>175</td>\n",
       "      <td>66</td>\n",
       "      <td>30</td>\n",
       "      <td>12</td>\n",
       "      <td>0</td>\n",
       "      <td>184</td>\n",
       "      <td>0</td>\n",
       "      <td>0</td>\n",
       "      <td>21.551020</td>\n",
       "      <td>13.511660</td>\n",
       "    </tr>\n",
       "  </tbody>\n",
       "</table>\n",
       "</div>"
      ],
      "text/plain": [
       "     ID  Length  Birthweight  Headcirc  Gestation  smoker  mage  mnocig  \\\n",
       "0  1360      56         4.55        34         44       0    20       0   \n",
       "1  1016      53         4.32        36         40       0    19       0   \n",
       "2   462      58         4.10        39         41       0    35       0   \n",
       "3  1187      53         4.07        38         44       0    20       0   \n",
       "4   553      54         3.94        37         42       0    24       0   \n",
       "\n",
       "   mheight  mppwt  fage  fedyrs  fnocig  fheight  lowbwt  mage35  IMC_mother  \\\n",
       "0      162     57    23      10      35      179       0       0   21.719250   \n",
       "1      171     62    19      12       0      183       0       0   21.203105   \n",
       "2      172     58    31      16      25      185       0       1   19.605192   \n",
       "3      174     68    26      14      25      189       0       0   22.460034   \n",
       "4      175     66    30      12       0      184       0       0   21.551020   \n",
       "\n",
       "    IMC_baby  \n",
       "0  14.508929  \n",
       "1  15.379138  \n",
       "2  12.187872  \n",
       "3  14.489142  \n",
       "4  13.511660  "
      ]
     },
     "execution_count": 53,
     "metadata": {},
     "output_type": "execute_result"
    }
   ],
   "source": [
    "df.head()"
   ]
  },
  {
   "cell_type": "code",
   "execution_count": 54,
   "metadata": {},
   "outputs": [
    {
     "name": "stdout",
     "output_type": "stream",
     "text": [
      "42 ont un IMC normal\n"
     ]
    }
   ],
   "source": [
    "IMC_baby_proportion = df['IMC_baby'] == range(13, 20)\n",
    "#print(IMC_baby_proportion)\n",
    "\n",
    "if i>=13 or i<20 :\n",
    "    print(f\"{df['IMC_baby'].value_counts().sum()} ont un IMC normal\")\n",
    "else :\n",
    "    print(f\"{df['IMC_baby'].value_counts().sum()} sont en dehors de la norme\")\n",
    "    "
   ]
  },
  {
   "cell_type": "code",
   "execution_count": 55,
   "metadata": {},
   "outputs": [
    {
     "data": {
      "text/plain": [
       "18"
      ]
     },
     "execution_count": 55,
     "metadata": {},
     "output_type": "execute_result"
    }
   ],
   "source": [
    "df['mage'].min()"
   ]
  },
  {
   "cell_type": "code",
   "execution_count": 56,
   "metadata": {},
   "outputs": [
    {
     "data": {
      "text/plain": [
       "41"
      ]
     },
     "execution_count": 56,
     "metadata": {},
     "output_type": "execute_result"
    }
   ],
   "source": [
    "df['mage'].max()"
   ]
  },
  {
   "cell_type": "code",
   "execution_count": 57,
   "metadata": {},
   "outputs": [],
   "source": [
    "median_age = df['mage'].median()"
   ]
  },
  {
   "cell_type": "code",
   "execution_count": 58,
   "metadata": {},
   "outputs": [],
   "source": [
    "df[\"cat\"] = np.where(df['mage']<median_age, 1, 0) # Création de la cible binaire"
   ]
  },
  {
   "cell_type": "code",
   "execution_count": 59,
   "metadata": {},
   "outputs": [
    {
     "name": "stdout",
     "output_type": "stream",
     "text": [
      "   age_group  mage\n",
      "0          2    20\n",
      "1          1    19\n",
      "2          3    35\n",
      "3          2    20\n",
      "4          2    24\n",
      "5          2    29\n",
      "6          2    24\n",
      "7          2    21\n",
      "8          1    18\n",
      "9          2    20\n",
      "10         2    27\n",
      "11         2    24\n",
      "12         3    31\n",
      "13         2    21\n",
      "14         2    29\n",
      "15         2    28\n",
      "16         2    27\n",
      "17         2    26\n",
      "18         1    19\n",
      "19         2    24\n",
      "20         2    20\n",
      "21         2    22\n",
      "22         1    19\n",
      "23         2    22\n",
      "24         2    20\n",
      "25         4    41\n",
      "26         2    20\n",
      "27         3    32\n",
      "28         3    31\n",
      "29         2    27\n",
      "30         3    30\n",
      "31         2    23\n",
      "32         2    21\n",
      "33         2    28\n",
      "34         3    30\n",
      "35         3    37\n",
      "36         2    26\n",
      "37         2    23\n",
      "38         3    31\n",
      "39         2    27\n",
      "40         2    20\n",
      "41         3    37\n"
     ]
    }
   ],
   "source": [
    "bins= [18, 20, 30, 40, 50]\n",
    "labels = ['1','2','3','4']\n",
    "df['age_group'] = pd.cut(df['mage'], bins=bins, labels=labels, right=False)\n",
    "print (df[['age_group', 'mage']])"
   ]
  },
  {
   "cell_type": "code",
   "execution_count": 60,
   "metadata": {},
   "outputs": [
    {
     "data": {
      "text/plain": [
       "2    28\n",
       "3     9\n",
       "1     4\n",
       "4     1\n",
       "Name: age_group, dtype: int64"
      ]
     },
     "execution_count": 60,
     "metadata": {},
     "output_type": "execute_result"
    }
   ],
   "source": [
    "df['age_group'].value_counts()"
   ]
  },
  {
   "cell_type": "code",
   "execution_count": 61,
   "metadata": {},
   "outputs": [
    {
     "data": {
      "text/html": [
       "<div>\n",
       "<style scoped>\n",
       "    .dataframe tbody tr th:only-of-type {\n",
       "        vertical-align: middle;\n",
       "    }\n",
       "\n",
       "    .dataframe tbody tr th {\n",
       "        vertical-align: top;\n",
       "    }\n",
       "\n",
       "    .dataframe thead th {\n",
       "        text-align: right;\n",
       "    }\n",
       "</style>\n",
       "<table border=\"1\" class=\"dataframe\">\n",
       "  <thead>\n",
       "    <tr style=\"text-align: right;\">\n",
       "      <th></th>\n",
       "      <th>ID</th>\n",
       "      <th>Length</th>\n",
       "      <th>Birthweight</th>\n",
       "      <th>Headcirc</th>\n",
       "      <th>Gestation</th>\n",
       "      <th>smoker</th>\n",
       "      <th>mage</th>\n",
       "      <th>mnocig</th>\n",
       "      <th>mheight</th>\n",
       "      <th>mppwt</th>\n",
       "      <th>fage</th>\n",
       "      <th>fedyrs</th>\n",
       "      <th>fnocig</th>\n",
       "      <th>fheight</th>\n",
       "      <th>lowbwt</th>\n",
       "      <th>mage35</th>\n",
       "      <th>IMC_mother</th>\n",
       "      <th>IMC_baby</th>\n",
       "      <th>cat</th>\n",
       "      <th>age_group</th>\n",
       "    </tr>\n",
       "  </thead>\n",
       "  <tbody>\n",
       "  </tbody>\n",
       "</table>\n",
       "</div>"
      ],
      "text/plain": [
       "Empty DataFrame\n",
       "Columns: [ID, Length, Birthweight, Headcirc, Gestation, smoker, mage, mnocig, mheight, mppwt, fage, fedyrs, fnocig, fheight, lowbwt, mage35, IMC_mother, IMC_baby, cat, age_group]\n",
       "Index: []"
      ]
     },
     "execution_count": 61,
     "metadata": {},
     "output_type": "execute_result"
    }
   ],
   "source": [
    "df[df['age_group']==2]"
   ]
  },
  {
   "cell_type": "code",
   "execution_count": 62,
   "metadata": {},
   "outputs": [
    {
     "data": {
      "text/html": [
       "<div>\n",
       "<style scoped>\n",
       "    .dataframe tbody tr th:only-of-type {\n",
       "        vertical-align: middle;\n",
       "    }\n",
       "\n",
       "    .dataframe tbody tr th {\n",
       "        vertical-align: top;\n",
       "    }\n",
       "\n",
       "    .dataframe thead th {\n",
       "        text-align: right;\n",
       "    }\n",
       "</style>\n",
       "<table border=\"1\" class=\"dataframe\">\n",
       "  <thead>\n",
       "    <tr style=\"text-align: right;\">\n",
       "      <th></th>\n",
       "      <th>ID</th>\n",
       "      <th>Length</th>\n",
       "      <th>Birthweight</th>\n",
       "      <th>Headcirc</th>\n",
       "      <th>Gestation</th>\n",
       "      <th>smoker</th>\n",
       "      <th>mage</th>\n",
       "      <th>mnocig</th>\n",
       "      <th>mheight</th>\n",
       "      <th>mppwt</th>\n",
       "      <th>fage</th>\n",
       "      <th>fedyrs</th>\n",
       "      <th>fnocig</th>\n",
       "      <th>fheight</th>\n",
       "      <th>lowbwt</th>\n",
       "      <th>mage35</th>\n",
       "      <th>IMC_mother</th>\n",
       "      <th>IMC_baby</th>\n",
       "      <th>cat</th>\n",
       "      <th>age_group</th>\n",
       "    </tr>\n",
       "  </thead>\n",
       "  <tbody>\n",
       "    <tr>\n",
       "      <th>0</th>\n",
       "      <td>1360</td>\n",
       "      <td>56</td>\n",
       "      <td>4.55</td>\n",
       "      <td>34</td>\n",
       "      <td>44</td>\n",
       "      <td>0</td>\n",
       "      <td>20</td>\n",
       "      <td>0</td>\n",
       "      <td>162</td>\n",
       "      <td>57</td>\n",
       "      <td>23</td>\n",
       "      <td>10</td>\n",
       "      <td>35</td>\n",
       "      <td>179</td>\n",
       "      <td>0</td>\n",
       "      <td>0</td>\n",
       "      <td>21.719250</td>\n",
       "      <td>14.508929</td>\n",
       "      <td>1</td>\n",
       "      <td>2</td>\n",
       "    </tr>\n",
       "    <tr>\n",
       "      <th>1</th>\n",
       "      <td>1016</td>\n",
       "      <td>53</td>\n",
       "      <td>4.32</td>\n",
       "      <td>36</td>\n",
       "      <td>40</td>\n",
       "      <td>0</td>\n",
       "      <td>19</td>\n",
       "      <td>0</td>\n",
       "      <td>171</td>\n",
       "      <td>62</td>\n",
       "      <td>19</td>\n",
       "      <td>12</td>\n",
       "      <td>0</td>\n",
       "      <td>183</td>\n",
       "      <td>0</td>\n",
       "      <td>0</td>\n",
       "      <td>21.203105</td>\n",
       "      <td>15.379138</td>\n",
       "      <td>1</td>\n",
       "      <td>1</td>\n",
       "    </tr>\n",
       "    <tr>\n",
       "      <th>2</th>\n",
       "      <td>462</td>\n",
       "      <td>58</td>\n",
       "      <td>4.10</td>\n",
       "      <td>39</td>\n",
       "      <td>41</td>\n",
       "      <td>0</td>\n",
       "      <td>35</td>\n",
       "      <td>0</td>\n",
       "      <td>172</td>\n",
       "      <td>58</td>\n",
       "      <td>31</td>\n",
       "      <td>16</td>\n",
       "      <td>25</td>\n",
       "      <td>185</td>\n",
       "      <td>0</td>\n",
       "      <td>1</td>\n",
       "      <td>19.605192</td>\n",
       "      <td>12.187872</td>\n",
       "      <td>0</td>\n",
       "      <td>3</td>\n",
       "    </tr>\n",
       "    <tr>\n",
       "      <th>3</th>\n",
       "      <td>1187</td>\n",
       "      <td>53</td>\n",
       "      <td>4.07</td>\n",
       "      <td>38</td>\n",
       "      <td>44</td>\n",
       "      <td>0</td>\n",
       "      <td>20</td>\n",
       "      <td>0</td>\n",
       "      <td>174</td>\n",
       "      <td>68</td>\n",
       "      <td>26</td>\n",
       "      <td>14</td>\n",
       "      <td>25</td>\n",
       "      <td>189</td>\n",
       "      <td>0</td>\n",
       "      <td>0</td>\n",
       "      <td>22.460034</td>\n",
       "      <td>14.489142</td>\n",
       "      <td>1</td>\n",
       "      <td>2</td>\n",
       "    </tr>\n",
       "    <tr>\n",
       "      <th>4</th>\n",
       "      <td>553</td>\n",
       "      <td>54</td>\n",
       "      <td>3.94</td>\n",
       "      <td>37</td>\n",
       "      <td>42</td>\n",
       "      <td>0</td>\n",
       "      <td>24</td>\n",
       "      <td>0</td>\n",
       "      <td>175</td>\n",
       "      <td>66</td>\n",
       "      <td>30</td>\n",
       "      <td>12</td>\n",
       "      <td>0</td>\n",
       "      <td>184</td>\n",
       "      <td>0</td>\n",
       "      <td>0</td>\n",
       "      <td>21.551020</td>\n",
       "      <td>13.511660</td>\n",
       "      <td>0</td>\n",
       "      <td>2</td>\n",
       "    </tr>\n",
       "  </tbody>\n",
       "</table>\n",
       "</div>"
      ],
      "text/plain": [
       "     ID  Length  Birthweight  Headcirc  Gestation  smoker  mage  mnocig  \\\n",
       "0  1360      56         4.55        34         44       0    20       0   \n",
       "1  1016      53         4.32        36         40       0    19       0   \n",
       "2   462      58         4.10        39         41       0    35       0   \n",
       "3  1187      53         4.07        38         44       0    20       0   \n",
       "4   553      54         3.94        37         42       0    24       0   \n",
       "\n",
       "   mheight  mppwt  fage  fedyrs  fnocig  fheight  lowbwt  mage35  IMC_mother  \\\n",
       "0      162     57    23      10      35      179       0       0   21.719250   \n",
       "1      171     62    19      12       0      183       0       0   21.203105   \n",
       "2      172     58    31      16      25      185       0       1   19.605192   \n",
       "3      174     68    26      14      25      189       0       0   22.460034   \n",
       "4      175     66    30      12       0      184       0       0   21.551020   \n",
       "\n",
       "    IMC_baby  cat age_group  \n",
       "0  14.508929    1         2  \n",
       "1  15.379138    1         1  \n",
       "2  12.187872    0         3  \n",
       "3  14.489142    1         2  \n",
       "4  13.511660    0         2  "
      ]
     },
     "execution_count": 62,
     "metadata": {},
     "output_type": "execute_result"
    }
   ],
   "source": [
    "df.head()"
   ]
  },
  {
   "cell_type": "code",
   "execution_count": 63,
   "metadata": {},
   "outputs": [
    {
     "data": {
      "text/plain": [
       "Text(0.5, 1.0, 'Barplot Birthweight/age_group')"
      ]
     },
     "execution_count": 63,
     "metadata": {},
     "output_type": "execute_result"
    },
    {
     "data": {
      "image/png": "[encoded data removed]",
      "text/plain": [
       "<Figure size 432x288 with 1 Axes>"
      ]
     },
     "metadata": {
      "needs_background": "light"
     },
     "output_type": "display_data"
    }
   ],
   "source": [
    "sns.barplot(data=df, x='age_group', y='Birthweight', palette='PuBu').set_title('Barplot Birthweight/age_group')"
   ]
  },
  {
   "cell_type": "code",
   "execution_count": 64,
   "metadata": {},
   "outputs": [
    {
     "data": {
      "text/plain": [
       "Text(0.5, 1.0, 'Barplot Gestation/age_group')"
      ]
     },
     "execution_count": 64,
     "metadata": {},
     "output_type": "execute_result"
    },
    {
     "data": {
      "image/png": "[encoded data removed]",
      "text/plain": [
       "<Figure size 432x288 with 1 Axes>"
      ]
     },
     "metadata": {
      "needs_background": "light"
     },
     "output_type": "display_data"
    }
   ],
   "source": [
    "sns.barplot(data=df, x='age_group', y='Gestation', palette='PuBu').set_title('Barplot Gestation/age_group')"
   ]
  },
  {
   "cell_type": "markdown",
   "metadata": {},
   "source": [
    "**3. TEST DE STUDENT**"
   ]
  },
  {
   "cell_type": "markdown",
   "metadata": {},
   "source": [
    "#hypothèse nulle : \n",
    "le poids des bébés n'a aucun lien avec le fait que la mère soit fumeuse ou non"
   ]
  },
  {
   "cell_type": "code",
   "execution_count": 65,
   "metadata": {},
   "outputs": [
    {
     "name": "stdout",
     "output_type": "stream",
     "text": [
      "le poids moyen des bébés est : \n",
      " 3\n"
     ]
    }
   ],
   "source": [
    "#poids moyen\n",
    "print(f\"le poids moyen des bébés est : \\n {df['Birthweight'].mean().__round__()}\")"
   ]
  },
  {
   "cell_type": "markdown",
   "metadata": {},
   "source": [
    "3.1 Comparaison mères fumeuses et non fumeuses sur le poids des nouveaux-nés"
   ]
  },
  {
   "cell_type": "code",
   "execution_count": 66,
   "metadata": {},
   "outputs": [],
   "source": [
    "df = df.drop(['ID'], axis=1)"
   ]
  },
  {
   "cell_type": "code",
   "execution_count": 67,
   "metadata": {},
   "outputs": [
    {
     "name": "stdout",
     "output_type": "stream",
     "text": [
      "<class 'pandas.core.frame.DataFrame'>\n",
      "RangeIndex: 42 entries, 0 to 41\n",
      "Data columns (total 19 columns):\n",
      " #   Column       Non-Null Count  Dtype   \n",
      "---  ------       --------------  -----   \n",
      " 0   Length       42 non-null     int64   \n",
      " 1   Birthweight  42 non-null     float64 \n",
      " 2   Headcirc     42 non-null     int64   \n",
      " 3   Gestation    42 non-null     int64   \n",
      " 4   smoker       42 non-null     int64   \n",
      " 5   mage         42 non-null     int64   \n",
      " 6   mnocig       42 non-null     int64   \n",
      " 7   mheight      42 non-null     int64   \n",
      " 8   mppwt        42 non-null     int64   \n",
      " 9   fage         42 non-null     int64   \n",
      " 10  fedyrs       42 non-null     int64   \n",
      " 11  fnocig       42 non-null     int64   \n",
      " 12  fheight      42 non-null     int64   \n",
      " 13  lowbwt       42 non-null     int64   \n",
      " 14  mage35       42 non-null     int64   \n",
      " 15  IMC_mother   42 non-null     float64 \n",
      " 16  IMC_baby     42 non-null     float64 \n",
      " 17  cat          42 non-null     int32   \n",
      " 18  age_group    42 non-null     category\n",
      "dtypes: category(1), float64(3), int32(1), int64(14)\n",
      "memory usage: 6.1 KB\n"
     ]
    }
   ],
   "source": [
    "df.info()"
   ]
  },
  {
   "cell_type": "code",
   "execution_count": 68,
   "metadata": {},
   "outputs": [
    {
     "data": {
      "text/plain": [
       "Ttest_1sampResult(statistic=-31.746724956356452, pvalue=1.7320289511590088e-30)"
      ]
     },
     "execution_count": 68,
     "metadata": {},
     "output_type": "execute_result"
    }
   ],
   "source": [
    "stats.ttest_1samp(df['smoker'], 3)"
   ]
  },
  {
   "cell_type": "markdown",
   "metadata": {},
   "source": [
    "Remarques :\n",
    "\n",
    "pvalue > 5% => on ne rejette pas l'hypothèse nulle"
   ]
  },
  {
   "cell_type": "markdown",
   "metadata": {},
   "source": [
    "**4. Test de Chi2**"
   ]
  },
  {
   "cell_type": "markdown",
   "metadata": {},
   "source": [
    "4.1 Déterminer l'indépendance des variables entre fumeuse et \"lowbwt\""
   ]
  },
  {
   "cell_type": "markdown",
   "metadata": {},
   "source": [
    "#hypothèse nulle : lowbwt n'a aucun rapport avec le fait que la mère soit fumeuse. "
   ]
  },
  {
   "cell_type": "code",
   "execution_count": 69,
   "metadata": {},
   "outputs": [],
   "source": [
    "X = df[\"lowbwt\"]\n",
    "Y = m_smoker\n",
    "\n",
    "cont_table = pd.crosstab(index=X, columns=Y, margins=False) #création table de contingence"
   ]
  },
  {
   "cell_type": "code",
   "execution_count": 70,
   "metadata": {},
   "outputs": [
    {
     "data": {
      "text/html": [
       "<div>\n",
       "<style scoped>\n",
       "    .dataframe tbody tr th:only-of-type {\n",
       "        vertical-align: middle;\n",
       "    }\n",
       "\n",
       "    .dataframe tbody tr th {\n",
       "        vertical-align: top;\n",
       "    }\n",
       "\n",
       "    .dataframe thead th {\n",
       "        text-align: right;\n",
       "    }\n",
       "</style>\n",
       "<table border=\"1\" class=\"dataframe\">\n",
       "  <thead>\n",
       "    <tr style=\"text-align: right;\">\n",
       "      <th>mnocig</th>\n",
       "      <th>False</th>\n",
       "      <th>True</th>\n",
       "    </tr>\n",
       "    <tr>\n",
       "      <th>lowbwt</th>\n",
       "      <th></th>\n",
       "      <th></th>\n",
       "    </tr>\n",
       "  </thead>\n",
       "  <tbody>\n",
       "    <tr>\n",
       "      <th>0</th>\n",
       "      <td>19</td>\n",
       "      <td>17</td>\n",
       "    </tr>\n",
       "    <tr>\n",
       "      <th>1</th>\n",
       "      <td>1</td>\n",
       "      <td>5</td>\n",
       "    </tr>\n",
       "  </tbody>\n",
       "</table>\n",
       "</div>"
      ],
      "text/plain": [
       "mnocig  False  True\n",
       "lowbwt             \n",
       "0          19    17\n",
       "1           1     5"
      ]
     },
     "execution_count": 70,
     "metadata": {},
     "output_type": "execute_result"
    }
   ],
   "source": [
    "cont_table"
   ]
  },
  {
   "cell_type": "code",
   "execution_count": 71,
   "metadata": {},
   "outputs": [
    {
     "name": "stdout",
     "output_type": "stream",
     "text": [
      "Test CHI2 = 1.4357954545454548\n",
      "p_value = 0.23082094094618558\n",
      "degré de liberté = 1\n",
      "Tableau de fréquence = [[17.14285714 18.85714286]\n",
      " [ 2.85714286  3.14285714]]\n",
      "\n",
      "\n",
      "Conclusion : 0n ne rejette pas H0\n"
     ]
    }
   ],
   "source": [
    "st_chi2, st_p, st_dof, st_exp = stats.chi2_contingency(cont_table)#test de CHI2\n",
    "print(f\"Test CHI2 = {st_chi2}\")\n",
    "print(f\"p_value = {st_p}\")\n",
    "print(f\"degré de liberté = {st_dof}\")\n",
    "print(f\"Tableau de fréquence = {st_exp}\")\n",
    "\n",
    "alpha = 0.01\n",
    "if st_p > alpha:\n",
    "    print(\"\\n\")\n",
    "    print('Conclusion : 0n ne rejette pas H0')\n",
    "else:\n",
    "    print(\"\\n\")\n",
    "    print('Conclusion : On rejette H0')"
   ]
  },
  {
   "cell_type": "markdown",
   "metadata": {},
   "source": [
    "**5. Test de normalité : Shapiro-Wilk test**"
   ]
  },
  {
   "cell_type": "markdown",
   "metadata": {},
   "source": [
    "5.1 définir si \"birthweight\" suit une loi normale"
   ]
  },
  {
   "cell_type": "markdown",
   "metadata": {},
   "source": [
    "#Hypothèse nulle : \"Birthweight\" suit une loi normale"
   ]
  },
  {
   "cell_type": "code",
   "execution_count": 72,
   "metadata": {},
   "outputs": [
    {
     "data": {
      "text/plain": [
       "<AxesSubplot:>"
      ]
     },
     "execution_count": 72,
     "metadata": {},
     "output_type": "execute_result"
    },
    {
     "data": {
      "image/png": "[encoded data removed]",
      "text/plain": [
       "<Figure size 432x288 with 1 Axes>"
      ]
     },
     "metadata": {
      "needs_background": "light"
     },
     "output_type": "display_data"
    }
   ],
   "source": [
    "df['Birthweight'].hist()"
   ]
  },
  {
   "cell_type": "code",
   "execution_count": 73,
   "metadata": {},
   "outputs": [
    {
     "name": "stdout",
     "output_type": "stream",
     "text": [
      "0.9684654474258423\n",
      "\"Birthweight\" semble Gaussien (On ne rejette pas H0)\n"
     ]
    }
   ],
   "source": [
    "stat, p = shapiro(df['Birthweight'])\n",
    "\n",
    "alpha = 0.05\n",
    "if p > alpha:\n",
    "    print(p)\n",
    "    print('\"Birthweight\" semble Gaussien (On ne rejette pas H0)')\n",
    "else:\n",
    "    print(p)\n",
    "    print('\"Birthweith\" ne paraît pas suivre une loi normale (rejet H0)')\n",
    "    "
   ]
  },
  {
   "cell_type": "markdown",
   "metadata": {},
   "source": [
    "**6. Régression linéaire**"
   ]
  },
  {
   "cell_type": "markdown",
   "metadata": {},
   "source": [
    "6.1 Vérifier que les hypothèses sont vérifiées"
   ]
  },
  {
   "cell_type": "markdown",
   "metadata": {},
   "source": [
    "Cela a été fait pour chaque modèle lors de leur entraînement"
   ]
  },
  {
   "cell_type": "markdown",
   "metadata": {},
   "source": [
    "6.2 Implémenter une régression linéaire"
   ]
  },
  {
   "cell_type": "code",
   "execution_count": 74,
   "metadata": {},
   "outputs": [
    {
     "name": "stdout",
     "output_type": "stream",
     "text": [
      "<class 'pandas.core.frame.DataFrame'>\n",
      "RangeIndex: 42 entries, 0 to 41\n",
      "Data columns (total 19 columns):\n",
      " #   Column       Non-Null Count  Dtype   \n",
      "---  ------       --------------  -----   \n",
      " 0   Length       42 non-null     int64   \n",
      " 1   Birthweight  42 non-null     float64 \n",
      " 2   Headcirc     42 non-null     int64   \n",
      " 3   Gestation    42 non-null     int64   \n",
      " 4   smoker       42 non-null     int64   \n",
      " 5   mage         42 non-null     int64   \n",
      " 6   mnocig       42 non-null     int64   \n",
      " 7   mheight      42 non-null     int64   \n",
      " 8   mppwt        42 non-null     int64   \n",
      " 9   fage         42 non-null     int64   \n",
      " 10  fedyrs       42 non-null     int64   \n",
      " 11  fnocig       42 non-null     int64   \n",
      " 12  fheight      42 non-null     int64   \n",
      " 13  lowbwt       42 non-null     int64   \n",
      " 14  mage35       42 non-null     int64   \n",
      " 15  IMC_mother   42 non-null     float64 \n",
      " 16  IMC_baby     42 non-null     float64 \n",
      " 17  cat          42 non-null     int32   \n",
      " 18  age_group    42 non-null     category\n",
      "dtypes: category(1), float64(3), int32(1), int64(14)\n",
      "memory usage: 6.1 KB\n"
     ]
    }
   ],
   "source": [
    "df.info()"
   ]
  },
  {
   "cell_type": "code",
   "execution_count": 75,
   "metadata": {},
   "outputs": [
    {
     "name": "stdout",
     "output_type": "stream",
     "text": [
      "Index(['age_group'], dtype='object')\n"
     ]
    }
   ],
   "source": [
    "df_cat = df.select_dtypes(['category']).columns\n",
    "df[df_cat] = df[df_cat].apply(lambda x: x.cat.codes)\n",
    " \n",
    "print(df_cat)"
   ]
  },
  {
   "cell_type": "code",
   "execution_count": 76,
   "metadata": {},
   "outputs": [
    {
     "name": "stdout",
     "output_type": "stream",
     "text": [
      "<class 'pandas.core.frame.DataFrame'>\n",
      "RangeIndex: 42 entries, 0 to 41\n",
      "Data columns (total 19 columns):\n",
      " #   Column       Non-Null Count  Dtype  \n",
      "---  ------       --------------  -----  \n",
      " 0   Length       42 non-null     int64  \n",
      " 1   Birthweight  42 non-null     float64\n",
      " 2   Headcirc     42 non-null     int64  \n",
      " 3   Gestation    42 non-null     int64  \n",
      " 4   smoker       42 non-null     int64  \n",
      " 5   mage         42 non-null     int64  \n",
      " 6   mnocig       42 non-null     int64  \n",
      " 7   mheight      42 non-null     int64  \n",
      " 8   mppwt        42 non-null     int64  \n",
      " 9   fage         42 non-null     int64  \n",
      " 10  fedyrs       42 non-null     int64  \n",
      " 11  fnocig       42 non-null     int64  \n",
      " 12  fheight      42 non-null     int64  \n",
      " 13  lowbwt       42 non-null     int64  \n",
      " 14  mage35       42 non-null     int64  \n",
      " 15  IMC_mother   42 non-null     float64\n",
      " 16  IMC_baby     42 non-null     float64\n",
      " 17  cat          42 non-null     int32  \n",
      " 18  age_group    42 non-null     int8   \n",
      "dtypes: float64(3), int32(1), int64(14), int8(1)\n",
      "memory usage: 5.9 KB\n"
     ]
    }
   ],
   "source": [
    "df.info()"
   ]
  },
  {
   "cell_type": "code",
   "execution_count": 77,
   "metadata": {},
   "outputs": [
    {
     "data": {
      "text/plain": [
       "Index(['Length', 'Headcirc', 'Gestation', 'smoker', 'mage', 'mnocig',\n",
       "       'mheight', 'mppwt', 'fage', 'fedyrs', 'fnocig', 'fheight', 'lowbwt',\n",
       "       'mage35'],\n",
       "      dtype='object')"
      ]
     },
     "execution_count": 77,
     "metadata": {},
     "output_type": "execute_result"
    }
   ],
   "source": [
    "FEATURES"
   ]
  },
  {
   "cell_type": "code",
   "execution_count": 78,
   "metadata": {},
   "outputs": [
    {
     "name": "stdout",
     "output_type": "stream",
     "text": [
      "-3.8643284541912273\n",
      "[ 0.04434136  0.08873408  0.09311026 -0.21938482  0.01339414  0.00191808\n",
      "  0.00273716  0.00908094 -0.00782752 -0.00589484  0.00221167 -0.01504573\n",
      " -0.0346887  -0.48252945]\n"
     ]
    }
   ],
   "source": [
    "X = df[FEATURES]\n",
    "Y = df[TARGET]\n",
    "# create a fitted model\n",
    "#lm = smf.ols(formula='Length ~ Headcirc + Gestation + smoker + mage + mnocig + mheight + mppwt + fage + fedyrs + fnocig + fheight + lowbwt + mage35',data=df\n",
    "#            ).fit()\n",
    "\n",
    "# entraînement du modèle\n",
    "from sklearn.linear_model import LinearRegression\n",
    "lm = LinearRegression()\n",
    "lm.fit(X, Y)\n",
    "\n",
    "# print intercept and coefficients\n",
    "print (lm.intercept_)\n",
    "print (lm.coef_)"
   ]
  },
  {
   "cell_type": "markdown",
   "metadata": {},
   "source": [
    "6.3 Vérifier la significativité des variables explicatives"
   ]
  },
  {
   "cell_type": "code",
   "execution_count": 79,
   "metadata": {},
   "outputs": [
    {
     "data": {
      "text/plain": [
       "0.8032171045823798"
      ]
     },
     "execution_count": 79,
     "metadata": {},
     "output_type": "execute_result"
    }
   ],
   "source": [
    "# calcul du R-squared\n",
    "lm.score(X, Y)"
   ]
  },
  {
   "cell_type": "code",
   "execution_count": 80,
   "metadata": {},
   "outputs": [
    {
     "data": {
      "text/plain": [
       "array([4.10675619, 3.7173333 , 3.90423346, 4.24176878, 4.04972394,\n",
       "       3.65596329, 3.44815067, 3.65997085, 3.80645126, 3.18220605,\n",
       "       3.67514377, 3.53391827, 3.43411661, 3.46020536, 3.60535137,\n",
       "       2.99819819, 3.39711961, 2.90042729, 3.19579352, 2.21716823,\n",
       "       3.61997795, 3.24708873, 2.51241366, 2.83475961, 2.34980618,\n",
       "       2.15192428, 2.07436225, 4.29414678, 3.18228972, 3.38160482,\n",
       "       3.34595202, 3.57852844, 2.97874874, 3.52854597, 3.69619711,\n",
       "       3.38070558, 3.69238526, 3.2663868 , 2.91528026, 3.37377971,\n",
       "       2.53197944, 3.01313668])"
      ]
     },
     "execution_count": 80,
     "metadata": {},
     "output_type": "execute_result"
    }
   ],
   "source": [
    "val_predict = lm.predict(X)\n",
    "val_predict "
   ]
  },
  {
   "cell_type": "code",
   "execution_count": 81,
   "metadata": {},
   "outputs": [
    {
     "data": {
      "text/plain": [
       "array([ 0.04434136,  0.08873408,  0.09311026, -0.21938482,  0.01339414,\n",
       "        0.00191808,  0.00273716,  0.00908094, -0.00782752, -0.00589484,\n",
       "        0.00221167, -0.01504573, -0.0346887 , -0.48252945])"
      ]
     },
     "execution_count": 81,
     "metadata": {},
     "output_type": "execute_result"
    }
   ],
   "source": [
    "lm.coef_"
   ]
  },
  {
   "cell_type": "markdown",
   "metadata": {},
   "source": [
    "6.4 Evaluer le modèle "
   ]
  },
  {
   "cell_type": "code",
   "execution_count": 82,
   "metadata": {},
   "outputs": [],
   "source": [
    "predictions = []\n",
    "model = lm\n",
    "preds = model.predict(df[FEATURES])\n",
    "predictions.append(preds)"
   ]
  },
  {
   "cell_type": "code",
   "execution_count": 83,
   "metadata": {},
   "outputs": [],
   "source": [
    "predictions_vf = np.mean(predictions,0)"
   ]
  },
  {
   "cell_type": "code",
   "execution_count": 84,
   "metadata": {},
   "outputs": [
    {
     "data": {
      "text/plain": [
       "0.07005591556191003"
      ]
     },
     "execution_count": 84,
     "metadata": {},
     "output_type": "execute_result"
    }
   ],
   "source": [
    "mse = mean_squared_error(predictions_vf,df[TARGET])\n",
    "mse"
   ]
  },
  {
   "cell_type": "code",
   "execution_count": 85,
   "metadata": {},
   "outputs": [
    {
     "name": "stdout",
     "output_type": "stream",
     "text": [
      "0.2646807804921053\n"
     ]
    }
   ],
   "source": [
    "#calcul du ratio\n",
    "rmse = np.sqrt(mse)\n",
    "print(rmse)"
   ]
  }
 ],
 "metadata": {
  "interpreter": {
   "hash": "2f6f85ce2f4fcdcc089ddd35cd9fb55dedb01c1ac386542430e6a97373dedf59"
  },
  "kernelspec": {
   "display_name": "Python 3.8.8 64-bit ('base': conda)",
   "language": "python",
   "name": "python3"
  },
  "language_info": {
   "codemirror_mode": {
    "name": "ipython",
    "version": 3
   },
   "file_extension": ".py",
   "mimetype": "text/x-python",
   "name": "python",
   "nbconvert_exporter": "python",
   "pygments_lexer": "ipython3",
   "version": "3.8.8"
  },
  "orig_nbformat": 4
 },
 "nbformat": 4,
 "nbformat_minor": 2
}
