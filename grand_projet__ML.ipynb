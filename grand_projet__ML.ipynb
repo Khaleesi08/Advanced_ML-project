{
 "cells": [
  {
   "cell_type": "code",
   "execution_count": null,
   "id": "213f5a6a",
   "metadata": {
    "cell_id": "310c501a-beee-41ed-b067-78fcfb6fc6d6",
    "deepnote_cell_type": "code",
    "deepnote_to_be_reexecuted": false,
    "execution_millis": 915,
    "execution_start": 1643061247193,
    "source_hash": "86460cdd"
   },
   "outputs": [],
   "source": [
    "import matplotlib.pyplot as plt\n",
    "import numpy as np\n",
    "import pandas as pd\n",
    "import seaborn as sns\n",
    "from sklearn.model_selection import train_test_split\n",
    "from sklearn.linear_model import LinearRegression\n",
    "from sklearn import preprocessing\n",
    "from sklearn.ensemble import RandomForestRegressor\n",
    "from sklearn.linear_model import Ridge, RidgeCV\n",
    "from sklearn.ensemble import GradientBoostingRegressor\n",
    "from sklearn.model_selection import GridSearchCV\n",
    "from sklearn.metrics import *\n",
    "from sklearn.metrics import mean_absolute_error\n",
    "from sklearn.model_selection import KFold\n",
    "from sklearn.preprocessing import StandardScaler\n",
    "from tqdm.notebook import *\n"
   ]
  },
  {
   "cell_type": "markdown",
   "id": "d84e4409",
   "metadata": {
    "cell_id": "00001-38e847e5-47c2-4c32-a7c2-c4d29aacfd21",
    "deepnote_cell_type": "markdown"
   },
   "source": [
    "**I. Chargement du jeu de données train**"
   ]
  },
  {
   "cell_type": "code",
   "execution_count": null,
   "id": "9d36ae11",
   "metadata": {
    "cell_id": "00002-d70b107e-f437-4c8b-b88e-e18f37bbe2b2",
    "deepnote_cell_type": "code",
    "deepnote_table_loading": false,
    "deepnote_table_state": {
     "filters": [],
     "pageIndex": 0,
     "pageSize": 10,
     "sortBy": []
    },
    "deepnote_to_be_reexecuted": false,
    "execution_millis": 899,
    "execution_start": 1643061248118,
    "source_hash": "7ee2e4"
   },
   "outputs": [],
   "source": [
    "#Chargement des données\n",
    "\n",
    "df=pd.read_csv('train.csv')\n",
    "df.head()"
   ]
  },
  {
   "cell_type": "markdown",
   "id": "de0823cf",
   "metadata": {},
   "source": [
    "**II. Exploration du jeu de données train**"
   ]
  },
  {
   "cell_type": "code",
   "execution_count": null,
   "id": "14fb4ed9",
   "metadata": {
    "cell_id": "fa597084-9d6f-4d40-995a-abc4c433b186",
    "deepnote_cell_type": "code",
    "deepnote_to_be_reexecuted": false,
    "execution_millis": 87,
    "execution_start": 1643061249017,
    "source_hash": "de1e323c",
    "tags": []
   },
   "outputs": [],
   "source": [
    "df.info()"
   ]
  },
  {
   "cell_type": "code",
   "execution_count": null,
   "id": "e782b30a",
   "metadata": {
    "cell_id": "4308fea4-de41-4e47-86c7-d1d31af3cf08",
    "deepnote_cell_type": "code",
    "deepnote_output_heights": [
     290
    ],
    "deepnote_to_be_reexecuted": false,
    "execution_millis": 6,
    "execution_start": 1643061249112,
    "source_hash": "25d43fa0",
    "tags": []
   },
   "outputs": [],
   "source": [
    "df.columns"
   ]
  },
  {
   "cell_type": "code",
   "execution_count": null,
   "id": "db75ae1f",
   "metadata": {
    "cell_id": "cb4a416d-6c8a-4b1b-8db4-1bbd5e5b0b75",
    "deepnote_cell_type": "code",
    "deepnote_output_heights": [
     21
    ],
    "deepnote_to_be_reexecuted": false,
    "execution_millis": 6,
    "execution_start": 1643061249124,
    "source_hash": "14f60b8f",
    "tags": []
   },
   "outputs": [],
   "source": [
    "df.shape"
   ]
  },
  {
   "cell_type": "code",
   "execution_count": null,
   "id": "e5fe5de2",
   "metadata": {
    "cell_id": "0403f9df-28a8-41b6-864e-aedd7d9e3760",
    "deepnote_cell_type": "code",
    "deepnote_to_be_reexecuted": false,
    "execution_millis": 562,
    "execution_start": 1643061249147,
    "source_hash": "f88152d9",
    "tags": []
   },
   "outputs": [],
   "source": [
    "df.describe()"
   ]
  },
  {
   "cell_type": "code",
   "execution_count": null,
   "id": "2f4fae6e",
   "metadata": {
    "cell_id": "45dabd7c-1667-4da9-8943-0b7c2a10266f",
    "deepnote_cell_type": "code",
    "deepnote_output_heights": [
     611
    ],
    "deepnote_to_be_reexecuted": false,
    "execution_millis": 10,
    "execution_start": 1643061249709,
    "source_hash": "f9cc63dd",
    "tags": []
   },
   "outputs": [],
   "source": [
    "df['Target'].value_counts()"
   ]
  },
  {
   "cell_type": "code",
   "execution_count": null,
   "id": "210bb502",
   "metadata": {
    "cell_id": "3d3d51f4-b2cf-4fa5-9c3d-4bd2201f34bb",
    "deepnote_cell_type": "code",
    "deepnote_output_heights": [
     21,
     250
    ],
    "deepnote_to_be_reexecuted": false,
    "execution_millis": 1551,
    "execution_start": 1643061249724,
    "source_hash": "5c021cc2",
    "tags": []
   },
   "outputs": [],
   "source": [
    "df['Target'].hist()"
   ]
  },
  {
   "cell_type": "markdown",
   "id": "1e7c6204",
   "metadata": {},
   "source": [
    "II.1 Corrélation"
   ]
  },
  {
   "cell_type": "code",
   "execution_count": null,
   "id": "ce51cff6",
   "metadata": {},
   "outputs": [],
   "source": [
    "df.columns"
   ]
  },
  {
   "cell_type": "code",
   "execution_count": null,
   "id": "a06dbc70",
   "metadata": {},
   "outputs": [],
   "source": [
    "choix_corr = df[['attempted_passes', 'big_chances_missed', 'target_missed',\n",
    "        'winning_goals', 'influence', 'key_passes', 'ict_index', 'goals_conceded',\n",
    "        'completed_passes', 'creativity', 'bps','minutes', 'saves','Target']]\n",
    "\n",
    "\n",
    "df2 = pd.DataFrame(choix_corr)\n",
    "df2"
   ]
  },
  {
   "cell_type": "code",
   "execution_count": null,
   "id": "a19cd90d",
   "metadata": {},
   "outputs": [],
   "source": [
    "df2.info()"
   ]
  },
  {
   "cell_type": "code",
   "execution_count": null,
   "id": "2ccea9f7",
   "metadata": {},
   "outputs": [],
   "source": [
    "#df_cat = df2.select_dtypes(['category']).columns\n",
    "#df2[df_cat] = df2[df_cat].apply(lambda x: x.cat.codes)\n",
    "#print(df_cat)\n",
    "\n",
    "corr_matrix = df2.corr(method='spearman', min_periods=1) #la méthose \"Spearman\" me paraît la plus pertinente \n",
    "                                                                    #pour obtenir des résultats optimaux. \n",
    "print(corr_matrix)\n",
    "\n"
   ]
  },
  {
   "cell_type": "code",
   "execution_count": null,
   "id": "9ce86f41",
   "metadata": {},
   "outputs": [],
   "source": [
    "cmap = sns.diverging_palette(220, 10, as_cmap=True)\n",
    "matrix = sns.heatmap(corr_matrix, cmap=cmap, cbar_kws={\"shrink\": .5}, linewidths=.5)\n",
    "plt.show()"
   ]
  },
  {
   "cell_type": "markdown",
   "id": "fdfc08f8",
   "metadata": {},
   "source": [
    "II.2 Visualisation"
   ]
  },
  {
   "cell_type": "code",
   "execution_count": null,
   "id": "4e9958c3",
   "metadata": {},
   "outputs": [],
   "source": [
    "df2[['attempted_passes', 'big_chances_missed', 'target_missed',\n",
    "        'winning_goals', 'influence',]].hist(figsize=(10,10))"
   ]
  },
  {
   "cell_type": "code",
   "execution_count": null,
   "id": "0d6f3e3e",
   "metadata": {},
   "outputs": [],
   "source": [
    "df2[['goals_conceded',\n",
    "        'completed_passes', 'creativity', 'bps','minutes', 'saves','Target']].boxplot(figsize=(10, 10))"
   ]
  },
  {
   "cell_type": "markdown",
   "id": "c0cfff69",
   "metadata": {},
   "source": [
    "**III. Chargement des données Test**"
   ]
  },
  {
   "cell_type": "code",
   "execution_count": null,
   "id": "f54dfe22",
   "metadata": {},
   "outputs": [],
   "source": [
    "\n",
    "#DATA_PATH='prdiction-des-points/'\n",
    "\n",
    "df_test = pd.read_csv('test.csv')"
   ]
  },
  {
   "cell_type": "markdown",
   "id": "6e22f6e9",
   "metadata": {},
   "source": [
    "**IV. Concaténation de train et de test**"
   ]
  },
  {
   "cell_type": "code",
   "execution_count": null,
   "id": "d8bcf346",
   "metadata": {},
   "outputs": [],
   "source": [
    "df_pour_processing=pd.concat([df,df_test])"
   ]
  },
  {
   "cell_type": "code",
   "execution_count": null,
   "id": "d13d4edd",
   "metadata": {},
   "outputs": [],
   "source": [
    "df_pour_processing"
   ]
  },
  {
   "cell_type": "markdown",
   "id": "c0bc9ca0",
   "metadata": {},
   "source": [
    "**V.Préprocessing**"
   ]
  },
  {
   "cell_type": "markdown",
   "id": "014c238f",
   "metadata": {},
   "source": [
    "V.1 Suppression des features dont la corrélation >0.90"
   ]
  },
  {
   "cell_type": "code",
   "execution_count": null,
   "id": "b102aa07",
   "metadata": {},
   "outputs": [],
   "source": [
    "upper_tri = corr_matrix.where(np.triu(np.ones(corr_matrix.shape),k=1).astype(np.bool))"
   ]
  },
  {
   "cell_type": "code",
   "execution_count": null,
   "id": "b0520f59",
   "metadata": {},
   "outputs": [],
   "source": [
    "to_drop = [column for column in upper_tri.columns if any(upper_tri[column] > 0.90)] \n",
    "print(); print(to_drop)"
   ]
  },
  {
   "cell_type": "code",
   "execution_count": null,
   "id": "f2bb7c3f",
   "metadata": {},
   "outputs": [],
   "source": [
    "df_pour_processing = df_pour_processing.drop(to_drop, axis=1) \n",
    "print(); print(df_pour_processing.head())"
   ]
  },
  {
   "cell_type": "code",
   "execution_count": null,
   "id": "15ef041a",
   "metadata": {},
   "outputs": [],
   "source": [
    "df_pour_processing.shape"
   ]
  },
  {
   "cell_type": "markdown",
   "id": "59399d7a",
   "metadata": {},
   "source": [
    "V.2  Identification des variables catégorielles & numériques"
   ]
  },
  {
   "cell_type": "code",
   "execution_count": null,
   "id": "00da3dff",
   "metadata": {},
   "outputs": [],
   "source": [
    "df_cat = df_pour_processing.select_dtypes(include=['object'])\n",
    "df_cat.columns"
   ]
  },
  {
   "cell_type": "code",
   "execution_count": null,
   "id": "75d9dfc3",
   "metadata": {},
   "outputs": [],
   "source": [
    "df_cat.isna().sum()"
   ]
  },
  {
   "cell_type": "code",
   "execution_count": null,
   "id": "d7858de5",
   "metadata": {},
   "outputs": [],
   "source": [
    "df_num = df_pour_processing.select_dtypes(include=['int', 'float'])\n",
    "df_num.columns"
   ]
  },
  {
   "cell_type": "code",
   "execution_count": null,
   "id": "a19e9730",
   "metadata": {},
   "outputs": [],
   "source": [
    "FEATURES = []\n",
    "\n",
    "NUMERICALS = ['sub_id', 'assists', 'attempted_passes', 'big_chances_created',\n",
    "       'big_chances_missed', 'bonus', 'bps', 'clean_sheets',\n",
    "       'clearances_blocks_interceptions', 'completed_passes', 'creativity',\n",
    "       'dribbles', 'ea_index', 'element', 'errors_leading_to_goal',\n",
    "       'errors_leading_to_goal_attempt', 'fixture', 'fouls', 'goals_conceded',\n",
    "       'goals_scored', 'ict_index', 'influence', 'key_passes',\n",
    "       'loaned_in', 'loaned_out', 'minutes', 'offside', 'open_play_crosses',\n",
    "       'opponent_team', 'own_goals', 'penalties_conceded', 'penalties_missed',\n",
    "       'penalties_saved', 'recoveries', 'red_cards', 'round', 'saves',\n",
    "       'selected', 'tackled', 'tackles', 'target_missed', 'team_a_score',\n",
    "       'team_h_score', 'threat', 'transfers_balance', 'transfers_in',\n",
    "       'transfers_out', 'value', 'winning_goals', 'yellow_cards', 'GW', 'xP'\n",
    "       ]\n",
    "CATEGORICALS=['name', 'kickoff_time', 'kickoff_time_formatted', 'position', 'team']\n",
    "\n",
    "Target = df_pour_processing['Target']\n",
    "\n",
    "FEATURES = NUMERICALS + CATEGORICALS"
   ]
  },
  {
   "cell_type": "markdown",
   "id": "ad5002fd",
   "metadata": {},
   "source": [
    "V.3 Imputation des valeurs manquantes"
   ]
  },
  {
   "cell_type": "code",
   "execution_count": null,
   "id": "9737a7c4",
   "metadata": {},
   "outputs": [],
   "source": [
    "#pourcentage de valeurs manquantes \n",
    "missing_values = df_pour_processing.isnull().sum()\n",
    "total_missing_values = missing_values.sum()\n",
    "total_values = np.product(df_pour_processing.shape)\n",
    "percent_missing = round((total_missing_values/total_values)*100)\n",
    "print(f'la part de valeurs manquantes est de {percent_missing}%')"
   ]
  },
  {
   "cell_type": "code",
   "execution_count": null,
   "id": "79c80b70",
   "metadata": {},
   "outputs": [],
   "source": [
    "df_pour_processing.isna().sum()"
   ]
  },
  {
   "cell_type": "code",
   "execution_count": null,
   "id": "08c2bf93",
   "metadata": {},
   "outputs": [],
   "source": [
    "## Variable continue ------> Moyenne / Mediane\n",
    "def median_method_1 (num_var_filled):\n",
    "    \n",
    "    moyenne_attempted_passes = df_pour_processing['attempted_passes'].mean()\n",
    "    df_pour_processing['attempted_passes'] = df_pour_processing['attempted_passes'].fillna(moyenne_attempted_passes)\n",
    "\n",
    "    mediane_big_chances_created = df_pour_processing['big_chances_created'].median()\n",
    "    df_pour_processing['big_chances_created'] = df_pour_processing['big_chances_created'].fillna(mediane_big_chances_created)\n",
    "\n",
    "\n",
    "    mediane_big_chances_missed = df_pour_processing['big_chances_missed'].median()\n",
    "    df_pour_processing['big_chances_missed'] = df_pour_processing['big_chances_missed'].fillna(mediane_big_chances_missed)\n",
    "\n",
    "    mediane_clearances_blocks_interceptions = df_pour_processing['clearances_blocks_interceptions'].median()\n",
    "    df_pour_processing['clearances_blocks_interceptions'] = df_pour_processing['clearances_blocks_interceptions'].fillna(mediane_clearances_blocks_interceptions)\n",
    "\n",
    "    mediane_dribbles = df_pour_processing['dribbles'].median()\n",
    "    df_pour_processing['dribbles'] = df_pour_processing['dribbles'].fillna(mediane_dribbles)\n",
    "\n",
    "    mediane_errors_leading_to_goal = df_pour_processing['errors_leading_to_goal'].median()\n",
    "    df_pour_processing['errors_leading_to_goal'] = df_pour_processing['errors_leading_to_goal'].fillna(mediane_errors_leading_to_goal)\n",
    "\n",
    "    mediane_fouls = df_pour_processing['fouls'].median()\n",
    "    df_pour_processing['fouls'] = df_pour_processing['fouls'].fillna(mediane_fouls)\n",
    "\n",
    "    mediane_loaned_out=df_pour_processing['loaned_out'].median()\n",
    "    df_pour_processing['loaned_out'] = df_pour_processing['loaned_out'].fillna(mediane_loaned_out)\n",
    "\n",
    "    mediane_open_play_crosses=df_pour_processing['open_play_crosses'].median()\n",
    "    df_pour_processing['open_play_crosses'] = df_pour_processing['open_play_crosses'].fillna(mediane_open_play_crosses)\n",
    "\n",
    "    mediane_recoveries=df_pour_processing['recoveries'].median()\n",
    "    df_pour_processing['recoveries'] = df_pour_processing['recoveries'].fillna(mediane_recoveries)\n",
    "\n",
    "    mediane_tackles=df_pour_processing['tackles'].median()\n",
    "    df_pour_processing['tackles'] = df_pour_processing['tackles'].fillna(mediane_tackles)\n",
    "\n",
    "    mediane_team_a_score=df_pour_processing['team_a_score'].median()\n",
    "    df_pour_processing['team_a_score'] = df_pour_processing['team_a_score'].fillna(mediane_team_a_score)\n",
    "\n",
    "    mediane_winning_goals=df_pour_processing['winning_goals'].median()\n",
    "    df_pour_processing['winning_goals'] = df_pour_processing['winning_goals'].fillna(mediane_winning_goals)\n",
    "\n",
    "\n",
    "    mediane_xP=df_pour_processing['xP'].median()\n",
    "    df_pour_processing['xP'] = df_pour_processing['xP'].fillna(mediane_xP)\n",
    "\n",
    "    return num_var_filled\n"
   ]
  },
  {
   "cell_type": "code",
   "execution_count": null,
   "id": "4871e26e",
   "metadata": {},
   "outputs": [],
   "source": [
    "median_method_1(df_pour_processing)"
   ]
  },
  {
   "cell_type": "code",
   "execution_count": null,
   "id": "d0fd7238",
   "metadata": {},
   "outputs": [],
   "source": [
    "df_pour_processing.isna().sum()"
   ]
  },
  {
   "cell_type": "code",
   "execution_count": null,
   "id": "206c61cd",
   "metadata": {},
   "outputs": [],
   "source": [
    "def median_method_2 (num_var_filled2):\n",
    "\n",
    "    mediane_ea_index= df_pour_processing['ea_index'].median()\n",
    "    df_pour_processing['ea_index'] = df_pour_processing['ea_index'].fillna(mediane_ea_index)\n",
    "    #df_pour_processing['ea_index'].isna().sum()\n",
    "\n",
    "    #df_pour_processing['errors_leading_to_goal_attempt'].hist()\n",
    "    #df_pour_processing['errors_leading_to_goal_attempt'].dtype\n",
    "\n",
    "    mediane_errors_leading_to_goal_attempt= df_pour_processing['errors_leading_to_goal_attempt'].median()\n",
    "    df_pour_processing['errors_leading_to_goal_attempt'] = df_pour_processing['errors_leading_to_goal_attempt'].fillna(mediane_errors_leading_to_goal_attempt)\n",
    "    df_pour_processing['errors_leading_to_goal_attempt'].isna().sum()\n",
    "\n",
    "    #df_pour_processing['key_passes'].dtype\n",
    "\n",
    "    mediane_key_passes= df_pour_processing['key_passes'].median()\n",
    "    df_pour_processing['key_passes'] = df_pour_processing['key_passes'].fillna(mediane_key_passes)\n",
    "    #df_pour_processing['key_passes'].isna().sum()\n",
    "\n",
    "    #df_pour_processing['loaned_in'].hist()\n",
    "\n",
    "    mediane_loaned_in= df_pour_processing['loaned_in'].median()\n",
    "    df_pour_processing['loaned_in'] = df_pour_processing['loaned_in'].fillna(mediane_loaned_in)\n",
    "    #df_pour_processing['loaned_in'].isna().sum()\n",
    "\n",
    "\n",
    "    #df_pour_processing['offside'].hist()\n",
    "\n",
    "    mediane_offside= df_pour_processing['offside'].median()\n",
    "    df_pour_processing['offside'] = df_pour_processing['offside'].fillna(mediane_offside)\n",
    "    df_pour_processing['offside'].isna().sum()\n",
    "\n",
    "    #df_pour_processing['penalties_conceded'].hist()\n",
    "\n",
    "    mediane_penalties_conceded= df_pour_processing['penalties_conceded'].median()\n",
    "    df_pour_processing['penalties_conceded'] = df_pour_processing['penalties_conceded'].fillna(mediane_penalties_conceded)\n",
    "    #df_pour_processing['penalties_conceded'].isna().sum()\n",
    "\n",
    "\n",
    "    #df_pour_processing['tackled'].hist()\n",
    "\n",
    "    mediane_tackled= df_pour_processing['tackled'].median()\n",
    "    df_pour_processing['tackled'] = df_pour_processing['tackled'].fillna(mediane_tackled)\n",
    "    #df_pour_processing['tackled'].isna().sum()\n",
    "\n",
    "    #df_pour_processing['target_missed'].median()\n",
    "\n",
    "    mediane_target_missed= df_pour_processing['target_missed'].median()\n",
    "    df_pour_processing['target_missed'] = df_pour_processing['target_missed'].fillna(mediane_target_missed)\n",
    "    #df_pour_processing['target_missed'].isna().sum()\n",
    "\n",
    "    #df_pour_processing['team_h_score'].median() #varible intéressante pour analyse\n",
    "\n",
    "    mediane_team_h_score= df_pour_processing['team_h_score'].median()\n",
    "    df_pour_processing['team_h_score'] = df_pour_processing['team_h_score'].fillna(mediane_team_h_score)\n",
    "    #df_pour_processing['team_h_score'].isna().sum()\n",
    "\n",
    "    mediane_Target= df_pour_processing['Target'].median()\n",
    "    df_pour_processing['Target'] = df_pour_processing['Target'].fillna(mediane_Target)\n",
    "\n",
    "    return num_var_filled2\n"
   ]
  },
  {
   "cell_type": "code",
   "execution_count": null,
   "id": "3523892f",
   "metadata": {},
   "outputs": [],
   "source": [
    "median_method_2(df_pour_processing)"
   ]
  },
  {
   "cell_type": "code",
   "execution_count": null,
   "id": "b52fff12",
   "metadata": {},
   "outputs": [],
   "source": [
    "df_pour_processing.isna().sum()"
   ]
  },
  {
   "cell_type": "code",
   "execution_count": null,
   "id": "f2561f88",
   "metadata": {},
   "outputs": [],
   "source": [
    "CATEGORICALS"
   ]
  },
  {
   "cell_type": "code",
   "execution_count": null,
   "id": "237ef92f",
   "metadata": {},
   "outputs": [],
   "source": [
    "sns.boxplot(data=df_pour_processing, x='team', y='Target', palette='PuBu').set_title('BoxPlot Target/team')"
   ]
  },
  {
   "cell_type": "code",
   "execution_count": null,
   "id": "1dad209b",
   "metadata": {},
   "outputs": [],
   "source": [
    "sns.boxplot(data=df_pour_processing, x='team', y='Target', palette='PuBu').set_title('BoxPlot Target/team')"
   ]
  },
  {
   "cell_type": "code",
   "execution_count": null,
   "id": "e9fb1f58",
   "metadata": {},
   "outputs": [],
   "source": [
    "#Scatterpblot\n",
    "ax = sns.scatterplot(x=\"kickoff_time_formatted\", y=\"Target\", data=df_pour_processing)"
   ]
  },
  {
   "cell_type": "code",
   "execution_count": null,
   "id": "344f484f",
   "metadata": {},
   "outputs": [],
   "source": [
    "df_pour_processing = df_pour_processing.drop(['id', 'kickoff_time_formatted', 'position', 'team'], axis=1)"
   ]
  },
  {
   "cell_type": "code",
   "execution_count": null,
   "id": "388a38f6",
   "metadata": {},
   "outputs": [],
   "source": [
    "df_pour_processing.head()"
   ]
  },
  {
   "cell_type": "code",
   "execution_count": null,
   "id": "46ac3331",
   "metadata": {},
   "outputs": [],
   "source": [
    "#pourcentage de valeurs manquantes \n",
    "missing_values = df_pour_processing.isnull().sum()\n",
    "total_missing_values = missing_values.sum()\n",
    "total_values = np.product(df_pour_processing.shape)\n",
    "percent_missing = round((total_missing_values/total_values)*100)\n",
    "print(f'la part de valeurs manquantes est de {percent_missing}%')"
   ]
  },
  {
   "cell_type": "markdown",
   "id": "517e31c3",
   "metadata": {},
   "source": [
    " Imputation des valeurs aberrantes"
   ]
  },
  {
   "cell_type": "markdown",
   "id": "3d43b487",
   "metadata": {},
   "source": [
    "V.4 Mise à jour des variables catégorielles & numériques"
   ]
  },
  {
   "cell_type": "code",
   "execution_count": null,
   "id": "56981970",
   "metadata": {},
   "outputs": [],
   "source": [
    "df_cat = df_pour_processing.select_dtypes(include=['object'])\n",
    "df_cat.columns"
   ]
  },
  {
   "cell_type": "code",
   "execution_count": null,
   "id": "347b6bec",
   "metadata": {},
   "outputs": [],
   "source": [
    "df_cat.isna().sum()"
   ]
  },
  {
   "cell_type": "code",
   "execution_count": null,
   "id": "e6ab21a8",
   "metadata": {},
   "outputs": [],
   "source": [
    "df_num = df_pour_processing.select_dtypes(include=['int', 'float'])\n",
    "df_num.columns"
   ]
  },
  {
   "cell_type": "code",
   "execution_count": null,
   "id": "142e621c",
   "metadata": {},
   "outputs": [],
   "source": [
    "FEATURES=[]\n",
    "\n",
    "NUMERICALS=['sub_id', 'assists', 'attempted_passes', 'big_chances_created',\n",
    "       'big_chances_missed', 'bonus', 'clean_sheets',\n",
    "       'clearances_blocks_interceptions', 'dribbles', 'ea_index', 'element',\n",
    "       'errors_leading_to_goal', 'errors_leading_to_goal_attempt', 'fixture',\n",
    "       'fouls', 'goals_conceded', 'goals_scored', 'key_passes', 'loaned_in',\n",
    "       'loaned_out', 'offside', 'open_play_crosses', 'opponent_team',\n",
    "       'own_goals', 'penalties_conceded', 'penalties_missed',\n",
    "       'penalties_saved', 'recoveries', 'red_cards', 'round', 'saves',\n",
    "       'selected', 'tackled', 'tackles', 'target_missed', 'team_a_score',\n",
    "       'team_h_score', 'threat', 'transfers_balance', 'transfers_in',\n",
    "       'transfers_out', 'value', 'winning_goals', 'yellow_cards', 'GW', 'xP'\n",
    "       ]\n",
    "CATEGORICALS=['name', 'kickoff_time']\n",
    "\n",
    "Target=df_pour_processing['Target']\n",
    "\n",
    "FEATURES = NUMERICALS + CATEGORICALS"
   ]
  },
  {
   "cell_type": "markdown",
   "id": "550c51ef",
   "metadata": {},
   "source": [
    "V.5 Standardisation"
   ]
  },
  {
   "cell_type": "code",
   "execution_count": null,
   "id": "895e88b6",
   "metadata": {},
   "outputs": [],
   "source": [
    "#--------------------Appliquer le scaler sur un sample---------------------#\n",
    "\n",
    "scaler = preprocessing.StandardScaler().fit(df_pour_processing[NUMERICALS].head(1000))\n",
    "scaler.transform(df_pour_processing[NUMERICALS].head(1000))\n",
    "print(\"Moyenne de chaque variable sur 1000 premières observations\")\n",
    "scaler.transform(df_pour_processing[NUMERICALS].head(1000)).mean(axis=0)\n",
    "print(\"Ecart-type de chaque variable sur 1000 premières observations\")\n",
    "scaler.transform(df_pour_processing[NUMERICALS].head(1000)).std(axis=0)"
   ]
  },
  {
   "cell_type": "code",
   "execution_count": null,
   "id": "3c8c3c07",
   "metadata": {},
   "outputs": [],
   "source": [
    "#--------------------Appliquer le scaler à toutes les autres lignes---------------------#\n",
    "\n",
    "X1 = scaler.transform(df_pour_processing[NUMERICALS].head(1000))\n",
    "X2 = scaler.transform(df_pour_processing[NUMERICALS][1000:])\n",
    "col_pos = df_pour_processing[NUMERICALS].columns.get_loc(\"attempted_passes\")\n",
    "# X2.mean(axis = 0)\n",
    "# X2.std(axis = 0)\n",
    "f, axes = plt.subplots(2, figsize=(10, 10))\n",
    "sns.distplot(X2[:,col_pos] , color=\"olive\", ax=axes[1])\n",
    "sns.distplot(X1[:,col_pos] , color=\"skyblue\", ax=axes[0])\n",
    "plt.savefig('standardisation.png', bbox_inches='tight')"
   ]
  },
  {
   "cell_type": "markdown",
   "id": "8b223f62",
   "metadata": {},
   "source": [
    "V.6 Normalisation"
   ]
  },
  {
   "cell_type": "code",
   "execution_count": null,
   "id": "705f650c",
   "metadata": {},
   "outputs": [],
   "source": [
    "scaler = preprocessing.Normalizer().fit(df_pour_processing[NUMERICALS].dropna(how = \"any\").head(1000))\n",
    "X1 = scaler.transform(df_pour_processing[NUMERICALS].dropna(how = \"any\").head(1000))\n",
    "f, axes = plt.subplots(2, figsize=(10, 10))\n",
    "sns.distplot(df_pour_processing[\"attempted_passes\"] , color=\"skyblue\", ax=axes[0])\n",
    "sns.distplot(X1[:,col_pos] , color=\"olive\", ax=axes[1])\n",
    "plt.savefig('normalisation.png', bbox_inches='tight')"
   ]
  },
  {
   "cell_type": "code",
   "execution_count": null,
   "id": "222f660b",
   "metadata": {},
   "outputs": [],
   "source": [
    "# Vérification de la norme L2 est bien égale à 1\n",
    "np.sqrt(np.sum(X1**2, axis=1))[:5] # L2-norm"
   ]
  },
  {
   "cell_type": "markdown",
   "id": "77d79345",
   "metadata": {
    "cell_id": "00006-928899ed-15f7-4f10-bee1-8e718176922d",
    "deepnote_cell_type": "markdown"
   },
   "source": [
    "V.7 Transformation des variables catégorielles"
   ]
  },
  {
   "cell_type": "code",
   "execution_count": null,
   "id": "43e94c65",
   "metadata": {
    "cell_id": "00007-2273fd66-fa12-4d84-9c7e-a3e6a8ccde78",
    "deepnote_cell_type": "code",
    "deepnote_to_be_reexecuted": false,
    "execution_millis": 4403,
    "execution_start": 1643061251692,
    "source_hash": "16ada8e"
   },
   "outputs": [],
   "source": [
    "data_dummies= pd.get_dummies(df_pour_processing[CATEGORICALS].astype('category'))\n",
    "data_dummies.sample(5)"
   ]
  },
  {
   "cell_type": "code",
   "execution_count": null,
   "id": "c8fe6ad7",
   "metadata": {
    "cell_id": "b497e0bd-a1f4-4f14-be1c-9bc21f06685d",
    "deepnote_cell_type": "code",
    "deepnote_output_heights": [
     175
    ],
    "deepnote_to_be_reexecuted": false,
    "execution_millis": 161850,
    "execution_start": 1643061256081,
    "source_hash": "5d9fc12f",
    "tags": []
   },
   "outputs": [],
   "source": [
    "data_dummies.columns"
   ]
  },
  {
   "cell_type": "code",
   "execution_count": null,
   "id": "54030112",
   "metadata": {
    "cell_id": "00009-e50c68f4-5c32-4c11-aafe-f01c9eff1534",
    "deepnote_cell_type": "code",
    "deepnote_to_be_reexecuted": false,
    "execution_millis": 158356,
    "execution_start": 1643061256100,
    "source_hash": "b1e797d5"
   },
   "outputs": [],
   "source": [
    "CATEGORICALS = data_dummies.columns\n",
    "len(CATEGORICALS)"
   ]
  },
  {
   "cell_type": "code",
   "execution_count": null,
   "id": "630b077e",
   "metadata": {
    "cell_id": "00011-7156124c-fa46-427d-ac13-91b6a101eb6e",
    "deepnote_cell_type": "code",
    "deepnote_to_be_reexecuted": false,
    "execution_millis": 11669,
    "execution_start": 1643061256101,
    "source_hash": "447312b"
   },
   "outputs": [],
   "source": [
    "df_pour_processing[CATEGORICALS] = data_dummies[CATEGORICALS]"
   ]
  },
  {
   "cell_type": "code",
   "execution_count": null,
   "id": "a97ca2bb",
   "metadata": {
    "cell_id": "05d77a1d-8ca7-4c09-a91f-0e022efa2d23",
    "deepnote_cell_type": "code",
    "deepnote_to_be_reexecuted": false,
    "execution_millis": 159702,
    "execution_start": 1643061267784,
    "source_hash": "74137bcb",
    "tags": []
   },
   "outputs": [],
   "source": [
    "FEATURES = list(CATEGORICALS) + NUMERICALS"
   ]
  },
  {
   "cell_type": "code",
   "execution_count": null,
   "id": "aeda7c27",
   "metadata": {
    "cell_id": "086591d5-1c33-49ec-95a0-e3e3548df5f8",
    "deepnote_cell_type": "code",
    "deepnote_output_heights": [
     611
    ],
    "deepnote_to_be_reexecuted": false,
    "execution_millis": 2,
    "execution_start": 1643061267804,
    "source_hash": "dff8f44b",
    "tags": []
   },
   "outputs": [],
   "source": [
    "FEATURES"
   ]
  },
  {
   "cell_type": "code",
   "execution_count": null,
   "id": "7b4b0ade",
   "metadata": {
    "cell_id": "ff448ba6-d1d8-4adc-a8b7-7a7d34009bca",
    "deepnote_cell_type": "code",
    "deepnote_to_be_reexecuted": false,
    "execution_millis": 2762,
    "execution_start": 1643061267813,
    "source_hash": "da7ea230",
    "tags": []
   },
   "outputs": [],
   "source": [
    "df_pour_processing.sample(2)"
   ]
  },
  {
   "cell_type": "markdown",
   "id": "b6d0da5f",
   "metadata": {
    "cell_id": "00012-a781574b-ca92-45fc-b206-eb0cb5958e6d",
    "deepnote_cell_type": "markdown"
   },
   "source": [
    "**VI. Stratégie de validation**"
   ]
  },
  {
   "cell_type": "code",
   "execution_count": null,
   "id": "3626724c",
   "metadata": {},
   "outputs": [],
   "source": [
    "df.shape\n",
    "df_preprocesse=df_pour_processing\n",
    "#Target= df_preprocesse['Target']\n",
    "df_preprocesse['Target']=Target\n",
    "df_preprocesse.shape\n"
   ]
  },
  {
   "cell_type": "code",
   "execution_count": null,
   "id": "3f90c085",
   "metadata": {},
   "outputs": [],
   "source": [
    "df_pour_processing"
   ]
  },
  {
   "cell_type": "code",
   "execution_count": null,
   "id": "426584dd",
   "metadata": {},
   "outputs": [],
   "source": [
    "#df_preprocesse['Target']"
   ]
  },
  {
   "cell_type": "code",
   "execution_count": null,
   "id": "04bc8cd9",
   "metadata": {},
   "outputs": [],
   "source": [
    "df_train = df_preprocesse.iloc[:df.shape[0],:]\n",
    "#Target\n",
    "df_test = df_preprocesse.iloc[-df_test.shape[0]:,:]\n",
    "#Target"
   ]
  },
  {
   "cell_type": "code",
   "execution_count": null,
   "id": "8a3968f8",
   "metadata": {},
   "outputs": [],
   "source": [
    "df_test"
   ]
  },
  {
   "cell_type": "code",
   "execution_count": null,
   "id": "544d898b",
   "metadata": {},
   "outputs": [],
   "source": [
    "df_test=df_test.drop([\"Target\"], axis=1)\n",
    "df_test.head()"
   ]
  },
  {
   "cell_type": "code",
   "execution_count": null,
   "id": "443a2dbb",
   "metadata": {
    "cell_id": "a91c7ddc-e127-4de0-8552-48b9e02e14d0",
    "deepnote_cell_type": "code",
    "deepnote_to_be_reexecuted": false,
    "execution_millis": 3729,
    "execution_start": 1643061546722,
    "source_hash": "eaa54c2f",
    "tags": []
   },
   "outputs": [],
   "source": [
    "NFOLD = 4\n",
    "\n",
    "kf = KFold(n_splits=NFOLD,shuffle=True,random_state=2021)\n",
    "#split = list(kf.split(df_train[FEATURES],Target))\n",
    "split = list(kf.split(df_train[FEATURES],df_train['Target']))\n",
    "\n",
    "for i,(train_index, test_index) in enumerate(split):\n",
    "    df_train.loc[test_index,'fold'] = i+1\n",
    "    \n",
    "df_train['fold'] = df_train['fold'].astype(int)"
   ]
  },
  {
   "cell_type": "code",
   "execution_count": null,
   "id": "126941ce",
   "metadata": {
    "cell_id": "e2451afa-8952-47c0-ae09-59348f962dee",
    "deepnote_cell_type": "code",
    "deepnote_to_be_reexecuted": true,
    "source_hash": "b98e27fa",
    "tags": []
   },
   "outputs": [],
   "source": [
    "df_train['fold'].value_counts()"
   ]
  },
  {
   "cell_type": "markdown",
   "id": "4485dabc",
   "metadata": {},
   "source": [
    "**VII.Modélisation**"
   ]
  },
  {
   "cell_type": "markdown",
   "id": "aa8dd239",
   "metadata": {},
   "source": [
    "RandomForestRegressor"
   ]
  },
  {
   "cell_type": "code",
   "execution_count": null,
   "id": "72540aeb",
   "metadata": {},
   "outputs": [],
   "source": [
    "\n",
    "model_rf = []\n",
    "\n",
    "MAE_scores_rf=[]\n",
    "\n",
    "features = FEATURES\n",
    "\n",
    "for fold in range(1,NFOLD+1):\n",
    "    print(f'\\n ---------------- Fold {fold} ------------\\n')\n",
    "    \n",
    "    ## Echantillon train test\n",
    "    \n",
    "    dtrain = df_train[df_train.fold!=fold]\n",
    "    dval = df_train[df_train.fold==fold]\n",
    "        \n",
    "    print(f\" -------------- Training on {len(dtrain)} samples-------------- \")\n",
    "    print(f\" -------------- Validation on {len(dval)} samples-------------- \")\n",
    "    \n",
    "    \n",
    "    ## Definition et Apprentissage du model\n",
    "    \n",
    "    #Definition et Apprentissage du model foret aléatoire\n",
    "    \n",
    "    clf = RandomForestRegressor(n_estimators=10, random_state=1)\n",
    "    clf.fit(dtrain[features], dtrain['Target'])\n",
    " \n",
    "    # Save model\n",
    "    model_rf.append(clf)\n",
    "    \n",
    "    # Predire sur validation\n",
    "\n",
    "    y_pred_val_rf = clf.predict(dval[features])\n",
    "\n",
    "    y_pred_train_rf = clf.predict(dtrain[features])\n",
    "\n",
    "    # Fonction de perte\n",
    "    \n",
    "    # metrics de performances\n",
    "    \n",
    "    mae_train_rf = mean_absolute_error(dtrain['Target'],y_pred_train_rf)\n",
    "    mae_val_rf = mean_absolute_error(dval['Target'],y_pred_val_rf)\n",
    "\n",
    "    print(f\"MAE rf Train: {mae_train_rf}  ; MAE rf VAL : {mae_val_rf}\")\n",
    "\n",
    "    MAE_scores_rf.append(mae_val_rf)"
   ]
  },
  {
   "cell_type": "code",
   "execution_count": null,
   "id": "d07e2700",
   "metadata": {},
   "outputs": [],
   "source": [
    "min_scores=min(MAE_scores_rf)\n",
    "c=0\n",
    "best_model= RandomForestRegressor()\n",
    "\n",
    "for mae_scores in MAE_scores_rf:\n",
    "    if mae_scores == min_scores:\n",
    "       #best_model=models[c]\n",
    "       best_model=model_rf[c]\n",
    "       print(c)\n",
    "       #print('best')\n",
    "    else:\n",
    "        print(\"pas le meilleur modèle\")\n",
    "    c=c+1\n"
   ]
  },
  {
   "cell_type": "code",
   "execution_count": null,
   "id": "940f95c4",
   "metadata": {},
   "outputs": [],
   "source": [
    "#----------Amélioration modèle ----------#\n",
    "\n",
    "parameters = {\n",
    "    'n_estimators': [5, 10],\n",
    "    #'max_depth': [2,4],\n",
    "}\n",
    "regr = RandomForestRegressor(random_state=0)\n",
    "\n",
    "clf = GridSearchCV(regr, parameters)\n",
    "clf.fit(dtrain[features], dtrain['Target'])"
   ]
  },
  {
   "cell_type": "code",
   "execution_count": null,
   "id": "d1282ce9",
   "metadata": {},
   "outputs": [],
   "source": [
    "print(\" Résultat du Grid Search \")\n",
    "print(\"\\n Le nombre d'estimators optimal:\\n\",clf.best_estimator_)\n",
    "print(\"\\n Le meilleur score obtenu:\\n\",clf.best_score_)\n",
    "print(\"\\n Les meilleurs paramètres:\\n\",clf.best_params_)"
   ]
  },
  {
   "cell_type": "code",
   "execution_count": null,
   "id": "1dc09dcb",
   "metadata": {},
   "outputs": [],
   "source": [
    "#Entraînement modèle avec les données Grid search\n",
    "\n",
    "model_rf = []\n",
    "\n",
    "MAE_scores_rf=[]\n",
    "\n",
    "features = FEATURES\n",
    "\n",
    "for fold in range(1,NFOLD+1):\n",
    "    print(f'\\n ---------------- Fold {fold} ------------\\n')\n",
    "    \n",
    "    ## Echantillon train test\n",
    "    \n",
    "    dtrain = df_train[df_train.fold!=fold]\n",
    "    dval = df_train[df_train.fold==fold]\n",
    "        \n",
    "    print(f\" -------------- Training on {len(dtrain)} samples-------------- \")\n",
    "    print(f\" -------------- Validation on {len(dval)} samples-------------- \")\n",
    "    \n",
    "    \n",
    "    ## Definition et Apprentissage du model\n",
    "    \n",
    "    #Definition et Apprentissage du model foret aléatoire\n",
    "    \n",
    "    clf = RandomForestRegressor(n_estimators=10, random_state=0)\n",
    "    clf.fit(dtrain[features], dtrain['Target'])\n",
    " \n",
    "    # Save model\n",
    "    model_rf.append(clf)\n",
    "    \n",
    "    # Predire sur validation\n",
    "\n",
    "    y_pred_val_rf = clf.predict(dval[features])\n",
    "\n",
    "    y_pred_train_rf = clf.predict(dtrain[features])\n",
    "\n",
    "    # Fonction de perte\n",
    "    \n",
    "    # metrics de performances\n",
    "    \n",
    "    mae_train_rf = mean_absolute_error(dtrain['Target'],y_pred_train_rf)\n",
    "    mae_val_rf = mean_absolute_error(dval['Target'],y_pred_val_rf)\n",
    "\n",
    "    print(f\"MAE rf Train: {mae_train_rf}  ; MAE rf VAL : {mae_val_rf}\")\n",
    "\n",
    "    MAE_scores_rf.append(mae_val_rf)"
   ]
  },
  {
   "cell_type": "code",
   "execution_count": null,
   "id": "278d008c",
   "metadata": {},
   "outputs": [],
   "source": [
    "min_scores=min(MAE_scores_rf)\n",
    "c=0\n",
    "best_model_rf= RandomForestRegressor()\n",
    "\n",
    "for mae_scores in MAE_scores_rf:\n",
    "    if mae_scores == min_scores:\n",
    "       Grid_rf=model_rf[c]\n",
    "       print(c)\n",
    "       #print('best')\n",
    "    else:\n",
    "        print(\"pas le meilleur modèle\")\n",
    "    c=c+1"
   ]
  },
  {
   "cell_type": "markdown",
   "id": "20a39237",
   "metadata": {},
   "source": [
    "Variables importance"
   ]
  },
  {
   "cell_type": "code",
   "execution_count": null,
   "id": "ecdbca4a",
   "metadata": {},
   "outputs": [],
   "source": [
    "features_names=Grid_rf.feature_names_in_\n",
    "len(features_names)"
   ]
  },
  {
   "cell_type": "code",
   "execution_count": null,
   "id": "79bbd599",
   "metadata": {},
   "outputs": [],
   "source": [
    "importances = Grid_rf.feature_importances_\n",
    "std = np.std([tree.feature_importances_ for tree in Grid_rf.estimators_], axis=0)\n",
    "\n",
    "forest_importances = pd.Series(importances[importances>0], index=features_names[importances>0])\n",
    "forest_importances\n",
    "forest_importances.sort_values\n",
    "#fig, ax = plt.subplots()\n",
    "#forest_importances.plot.bar(yerr=std[importances>0], ax=ax)\n",
    "#ax.set_title(\"Feature importances using MDI\")\n",
    "#ax.set_ylabel(\"Mean decrease in impurity\")\n",
    "\n",
    "#fig.tight_layout()"
   ]
  },
  {
   "cell_type": "code",
   "execution_count": null,
   "id": "19670bff",
   "metadata": {},
   "outputs": [],
   "source": [
    "len(forest_importances)"
   ]
  },
  {
   "cell_type": "markdown",
   "id": "56dedb5c",
   "metadata": {},
   "source": [
    "**Ridge Regression**"
   ]
  },
  {
   "cell_type": "code",
   "execution_count": null,
   "id": "38caea76",
   "metadata": {},
   "outputs": [],
   "source": [
    "MAE_scores_Ridge=[]\n",
    "\n",
    "df_resultat_Ridge= []\n",
    "\n",
    "features = FEATURES\n",
    "\n",
    "for fold in range(1,NFOLD+1):\n",
    "    print(f'\\n ---------------- Fold {fold} ------------\\n')\n",
    "    \n",
    "    ## Echantillon train test\n",
    "    \n",
    "    dtrain = df_train[df_train.fold!=fold]\n",
    "    dval = df_train[df_train.fold==fold]\n",
    "        \n",
    "    print(f\" -------------- Training on {len(dtrain)} samples-------------- \")\n",
    "    print(f\" -------------- Validation on {len(dval)} samples-------------- \")\n",
    "\n",
    "\n",
    "    n_alphas = 1\n",
    "    alphas = np.arange(0,n_alphas,0.5) #avec alpha le pénalisant\n",
    "\n",
    "    for alpha in tqdm_notebook(alphas):\n",
    "        reg_Ridge = Ridge(alpha=alpha).fit(dtrain[FEATURES],dtrain['Target'])\n",
    "\n",
    "        #prediction\n",
    "\n",
    "        y_pred_val_Ridge = reg_Ridge.predict(dval[features])\n",
    "        y_pred_train_Ridge = reg_Ridge.predict(dtrain[features])\n",
    "        df_resultat_Ridge.append(reg_Ridge)\n",
    "\n",
    "        ##Fonction de perte \n",
    "        #Metric de performance \n",
    "        \n",
    "        mae_train_Ridge = mean_absolute_error(dtrain['Target'],y_pred_train_Ridge)\n",
    "        mae_val_Ridge= mean_absolute_error(dval['Target'],y_pred_val_Ridge)\n",
    "\n",
    "        print(f\"MAE rf Train: {mae_train_Ridge}  ; MAE rf VAL : {mae_val_Ridge}\")\n",
    "\n",
    "        MAE_scores_Ridge.append(mae_val_Ridge)\n",
    "\n"
   ]
  },
  {
   "cell_type": "code",
   "execution_count": null,
   "id": "7492e2f3",
   "metadata": {},
   "outputs": [],
   "source": [
    "min_scores=min(MAE_scores_Ridge)\n",
    "c=0\n",
    "best_model_Ridge= Ridge()\n",
    "\n",
    "for mae_scores in MAE_scores_Ridge:\n",
    "    if mae_scores == min_scores:\n",
    "       best_Ridge=df_resultat_Ridge[c]\n",
    "       print(c)\n",
    "       #print('best')\n",
    "    else:\n",
    "        print(\"pas le meilleur modèle\")\n",
    "    c=c+1\n"
   ]
  },
  {
   "cell_type": "markdown",
   "id": "ae7319aa",
   "metadata": {},
   "source": [
    "Variable name"
   ]
  },
  {
   "cell_type": "code",
   "execution_count": null,
   "id": "d9e2f6bd",
   "metadata": {},
   "outputs": [],
   "source": [
    "features_name_ridge =best_Ridge.feature_names_in_\n",
    "features_name_ridge"
   ]
  },
  {
   "cell_type": "code",
   "execution_count": null,
   "id": "a3fe59db",
   "metadata": {},
   "outputs": [],
   "source": [
    "best_Ridge.n_features_in_"
   ]
  },
  {
   "cell_type": "markdown",
   "id": "85344986",
   "metadata": {},
   "source": [
    "**VIII. Prédiction sur Test**"
   ]
  },
  {
   "cell_type": "markdown",
   "id": "b084304b",
   "metadata": {},
   "source": [
    "RandomForestRegressor"
   ]
  },
  {
   "cell_type": "code",
   "execution_count": null,
   "id": "237d4812",
   "metadata": {},
   "outputs": [],
   "source": [
    "y_test_pred_rf = Grid_rf.predict(df_test[FEATURES])\n",
    "y_test_pred_rf"
   ]
  },
  {
   "cell_type": "code",
   "execution_count": null,
   "id": "44d2f9a8",
   "metadata": {},
   "outputs": [],
   "source": [
    "df_test['target'] = y_test_pred_rf\n",
    "df_test['target']"
   ]
  },
  {
   "cell_type": "code",
   "execution_count": null,
   "id": "12682882",
   "metadata": {},
   "outputs": [],
   "source": [
    "df_test[[\"sub_id\",\"target\"]].to_csv('submssion_RandomForest2.csv',index=False)"
   ]
  },
  {
   "cell_type": "markdown",
   "id": "1e116b12",
   "metadata": {},
   "source": [
    "**Ridge Regression**"
   ]
  },
  {
   "cell_type": "code",
   "execution_count": null,
   "id": "c3778aa1",
   "metadata": {},
   "outputs": [],
   "source": [
    "y_test_pred_Ridge = best_Ridge.predict(df_test[FEATURES])\n",
    "y_test_pred_Ridge"
   ]
  },
  {
   "cell_type": "code",
   "execution_count": null,
   "id": "cee72c19",
   "metadata": {},
   "outputs": [],
   "source": [
    "best_Ridge"
   ]
  },
  {
   "cell_type": "code",
   "execution_count": null,
   "id": "55c829a8",
   "metadata": {},
   "outputs": [],
   "source": [
    "features_names=y_test_pred_Ridge.get_feature_names_out()\n",
    "features_names"
   ]
  },
  {
   "cell_type": "code",
   "execution_count": null,
   "id": "598bad8d",
   "metadata": {},
   "outputs": [],
   "source": [
    "df_test['target'] = y_test_pred_Ridge\n",
    "df_test['target']"
   ]
  },
  {
   "cell_type": "code",
   "execution_count": null,
   "id": "d090ce4c",
   "metadata": {},
   "outputs": [],
   "source": [
    "df_test[[\"sub_id\",\"target\"]].to_csv('submssion_Ridge-Regression2.csv',index=False)"
   ]
  },
  {
   "cell_type": "code",
   "execution_count": null,
   "id": "887ef232",
   "metadata": {},
   "outputs": [],
   "source": [
    "#mean_absolute_error(y_test, y_test_pred)"
   ]
  }
 ],
 "metadata": {
  "deepnote": {},
  "deepnote_execution_queue": [],
  "deepnote_notebook_id": "7dcc860a-248f-4e4b-979c-a1f0343869d5",
  "kernelspec": {
   "display_name": "Python 3",
   "language": "python",
   "name": "python3"
  },
  "language_info": {
   "codemirror_mode": {
    "name": "ipython",
    "version": 3
   },
   "file_extension": ".py",
   "mimetype": "text/x-python",
   "name": "python",
   "nbconvert_exporter": "python",
   "pygments_lexer": "ipython3",
   "version": "3.8.8"
  }
 },
 "nbformat": 4,
 "nbformat_minor": 5
}
